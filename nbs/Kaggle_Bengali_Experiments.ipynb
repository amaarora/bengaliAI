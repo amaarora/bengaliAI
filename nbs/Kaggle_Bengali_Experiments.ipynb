{
 "cells": [
  {
   "cell_type": "markdown",
   "metadata": {},
   "source": [
    "Need to add `Tensorboard` to my experiments."
   ]
  },
  {
   "cell_type": "code",
   "execution_count": 1,
   "metadata": {},
   "outputs": [],
   "source": [
    "import sys\n",
    "import os \n",
    "import ast\n",
    "import torch\n",
    "import joblib\n",
    "import numpy as np\n",
    "import pandas as pd\n",
    "from PIL import Image\n",
    "import albumentations\n",
    "from tqdm import tqdm\n",
    "import torch.nn as nn\n",
    "from pathlib import Path\n",
    "from pdb import set_trace\n",
    "from matplotlib import pyplot as plt\n",
    "import torchvision.models as models\n",
    "from torch.nn import functional as F\n",
    "from sklearn.metrics import recall_score\n",
    "import pretrainedmodels\n",
    "import logging \n",
    "logging.basicConfig(level=logging.INFO)\n",
    "logger = logging.getLogger(__name__)\n",
    "\n",
    "sys.path.append(\"../src\")"
   ]
  },
  {
   "cell_type": "code",
   "execution_count": 2,
   "metadata": {},
   "outputs": [],
   "source": [
    "from torch.utils.tensorboard import SummaryWriter"
   ]
  },
  {
   "cell_type": "code",
   "execution_count": 3,
   "metadata": {},
   "outputs": [],
   "source": [
    "# writer = SummaryWriter()"
   ]
  },
  {
   "cell_type": "code",
   "execution_count": 4,
   "metadata": {},
   "outputs": [
    {
     "data": {
      "text/plain": [
       "True"
      ]
     },
     "execution_count": 4,
     "metadata": {},
     "output_type": "execute_result"
    }
   ],
   "source": [
    "torch.cuda.is_available()"
   ]
  },
  {
   "cell_type": "code",
   "execution_count": 5,
   "metadata": {},
   "outputs": [
    {
     "name": "stdout",
     "output_type": "stream",
     "text": [
      "Wed Mar 11 04:11:09 2020       \r\n",
      "+-----------------------------------------------------------------------------+\r\n",
      "| NVIDIA-SMI 440.33.01    Driver Version: 440.33.01    CUDA Version: 10.2     |\r\n",
      "|-------------------------------+----------------------+----------------------+\r\n",
      "| GPU  Name        Persistence-M| Bus-Id        Disp.A | Volatile Uncorr. ECC |\r\n",
      "| Fan  Temp  Perf  Pwr:Usage/Cap|         Memory-Usage | GPU-Util  Compute M. |\r\n",
      "|===============================+======================+======================|\r\n",
      "|   0  Tesla T4            On   | 00000000:00:1E.0 Off |                    0 |\r\n",
      "| N/A   69C    P0    31W /  70W |     11MiB / 15109MiB |      0%      Default |\r\n",
      "+-------------------------------+----------------------+----------------------+\r\n",
      "                                                                               \r\n",
      "+-----------------------------------------------------------------------------+\r\n",
      "| Processes:                                                       GPU Memory |\r\n",
      "|  GPU       PID   Type   Process name                             Usage      |\r\n",
      "|=============================================================================|\r\n",
      "|  No running processes found                                                 |\r\n",
      "+-----------------------------------------------------------------------------+\r\n"
     ]
    }
   ],
   "source": [
    "!nvidia-smi"
   ]
  },
  {
   "cell_type": "markdown",
   "metadata": {},
   "source": [
    "## DataSet"
   ]
  },
  {
   "cell_type": "code",
   "execution_count": 6,
   "metadata": {
    "scrolled": true
   },
   "outputs": [
    {
     "data": {
      "text/html": [
       "<div>\n",
       "<style scoped>\n",
       "    .dataframe tbody tr th:only-of-type {\n",
       "        vertical-align: middle;\n",
       "    }\n",
       "\n",
       "    .dataframe tbody tr th {\n",
       "        vertical-align: top;\n",
       "    }\n",
       "\n",
       "    .dataframe thead th {\n",
       "        text-align: right;\n",
       "    }\n",
       "</style>\n",
       "<table border=\"1\" class=\"dataframe\">\n",
       "  <thead>\n",
       "    <tr style=\"text-align: right;\">\n",
       "      <th></th>\n",
       "      <th>image_id</th>\n",
       "      <th>grapheme_root</th>\n",
       "      <th>vowel_diacritic</th>\n",
       "      <th>consonant_diacritic</th>\n",
       "      <th>grapheme</th>\n",
       "      <th>kfold</th>\n",
       "    </tr>\n",
       "  </thead>\n",
       "  <tbody>\n",
       "    <tr>\n",
       "      <td>0</td>\n",
       "      <td>Train_84143</td>\n",
       "      <td>99</td>\n",
       "      <td>1</td>\n",
       "      <td>0</td>\n",
       "      <td>প্না</td>\n",
       "      <td>1</td>\n",
       "    </tr>\n",
       "    <tr>\n",
       "      <td>1</td>\n",
       "      <td>Train_72913</td>\n",
       "      <td>148</td>\n",
       "      <td>2</td>\n",
       "      <td>0</td>\n",
       "      <td>স্কি</td>\n",
       "      <td>1</td>\n",
       "    </tr>\n",
       "    <tr>\n",
       "      <td>2</td>\n",
       "      <td>Train_46642</td>\n",
       "      <td>38</td>\n",
       "      <td>7</td>\n",
       "      <td>2</td>\n",
       "      <td>র্চে</td>\n",
       "      <td>3</td>\n",
       "    </tr>\n",
       "    <tr>\n",
       "      <td>3</td>\n",
       "      <td>Train_26255</td>\n",
       "      <td>68</td>\n",
       "      <td>0</td>\n",
       "      <td>0</td>\n",
       "      <td>ত্ন</td>\n",
       "      <td>2</td>\n",
       "    </tr>\n",
       "    <tr>\n",
       "      <td>4</td>\n",
       "      <td>Train_21993</td>\n",
       "      <td>83</td>\n",
       "      <td>0</td>\n",
       "      <td>0</td>\n",
       "      <td>ন্ট</td>\n",
       "      <td>2</td>\n",
       "    </tr>\n",
       "  </tbody>\n",
       "</table>\n",
       "</div>"
      ],
      "text/plain": [
       "      image_id  grapheme_root  vowel_diacritic  consonant_diacritic grapheme  \\\n",
       "0  Train_84143             99                1                    0     প্না   \n",
       "1  Train_72913            148                2                    0     স্কি   \n",
       "2  Train_46642             38                7                    2     র্চে   \n",
       "3  Train_26255             68                0                    0      ত্ন   \n",
       "4  Train_21993             83                0                    0      ন্ট   \n",
       "\n",
       "   kfold  \n",
       "0      1  \n",
       "1      1  \n",
       "2      3  \n",
       "3      2  \n",
       "4      2  "
      ]
     },
     "execution_count": 6,
     "metadata": {},
     "output_type": "execute_result"
    }
   ],
   "source": [
    "data_path = Path(\"../data\")\n",
    "df = pd.read_csv(data_path/'train_folds.csv')\n",
    "df.head()"
   ]
  },
  {
   "cell_type": "code",
   "execution_count": 7,
   "metadata": {},
   "outputs": [],
   "source": [
    "class BengaliDataset():\n",
    "    def __init__(self, folds, data_path=\"../data\", height=137, width=236, random_state=123, subset=False, _df=None):\n",
    "        data_path = Path(data_path)\n",
    "        df = pd.read_csv(data_path/'train_folds.csv')\n",
    "        \n",
    "        if subset: df = _df\n",
    "        \n",
    "        df = df[['image_id', 'grapheme_root', 'vowel_diacritic', 'consonant_diacritic', 'kfold']]\n",
    "        df = df[df.kfold.isin(folds)].reset_index(drop=True)\n",
    "                \n",
    "        self.df = df\n",
    "        self.data_path=data_path\n",
    "        self.img_ids = df['image_id'].values\n",
    "        self.grapheme_root = pd.get_dummies(df['grapheme_root']).values\n",
    "        self.vowel_diacritic = pd.get_dummies(df['vowel_diacritic']).values\n",
    "        self.consonant_diacritic = pd.get_dummies(df['consonant_diacritic']).values\n",
    "        self.h = height\n",
    "        self.w = width\n",
    "        \n",
    "        if len(folds) == 1: \n",
    "            self.aug = albumentations.Compose([\n",
    "                albumentations.Resize(self.h, self.w, always_apply=True), \n",
    "                albumentations.Normalize(always_apply=True) #uses imagenette stats by default\n",
    "            ])\n",
    "        else:\n",
    "            self.aug = albumentations.Compose([\n",
    "                albumentations.Resize(self.h, self.w, always_apply=True),\n",
    "                albumentations.Normalize(always_apply=True) #uses imagenette stats by default\n",
    "            ])\n",
    "            \n",
    "    def __len__(self):\n",
    "        return len(self.img_ids)\n",
    "    \n",
    "    def __getitem__(self, idx):\n",
    "        image = joblib.load(f\"{self.data_path}/image_pickles/{self.img_ids[idx]}.pkl\")\n",
    "        image = image.reshape(self.h, self.w).astype(float)\n",
    "        image = Image.fromarray(image).convert(\"RGB\")\n",
    "        image = self.aug(image=np.array(image))['image']\n",
    "        image = np.transpose(image, (2, 0, 1)).astype(np.float32)\n",
    "        return {\n",
    "            'image': torch.tensor(image, dtype=torch.float),\n",
    "            'grapheme_root': torch.tensor(self.grapheme_root[idx], dtype=torch.long), \n",
    "            'vowel_diacritic': torch.tensor(self.vowel_diacritic[idx], dtype=torch.long), \n",
    "            'consonant_diacritic': torch.tensor(self.consonant_diacritic[idx], dtype=torch.long), \n",
    "        }\n",
    "    \n",
    "    def show_image(self, idx, ax):\n",
    "        image = joblib.load(f\"{self.data_path}/image_pickles/{self.img_ids[idx]}.pkl\")\n",
    "        image = image.reshape(self.h, self.w).astype(float)\n",
    "        image = Image.fromarray(image).convert(\"RGB\")\n",
    "        image = self.aug(image=np.array(image))['image']\n",
    "        image = np.transpose(image, (2, 0, 1)).astype(np.float32)\n",
    "        ax.imshow(np.transpose(image, [1, 2, 0]))\n",
    "        \n",
    "    def show_batch(self, num_batch=3, seed=1):\n",
    "        np.random.seed(seed)\n",
    "        cols = num_batch // 3 if num_batch > 3 else num_batch\n",
    "        fig, ax = plt.subplots(cols,3, figsize=(10,10))\n",
    "        for j in range(cols):\n",
    "            for i in range(3):\n",
    "                idx   = np.random.choice(len(self.img_ids))\n",
    "                self.show_image(idx, ax[j][i])"
   ]
  },
  {
   "cell_type": "code",
   "execution_count": 8,
   "metadata": {},
   "outputs": [
    {
     "name": "stdout",
     "output_type": "stream",
     "text": [
      "train folds: [2 1 4 0], val fold: [3]\n"
     ]
    },
    {
     "data": {
      "text/plain": [
       "160672"
      ]
     },
     "execution_count": 8,
     "metadata": {},
     "output_type": "execute_result"
    }
   ],
   "source": [
    "np.random.seed(1)\n",
    "folds   = np.random.permutation(5)\n",
    "trn_fld = folds[:4]\n",
    "val_fld = folds[4:]\n",
    "print(f\"train folds: {trn_fld}, val fold: {val_fld}\")\n",
    "\n",
    "dataset = BengaliDataset(folds=trn_fld)\n",
    "len(dataset)"
   ]
  },
  {
   "cell_type": "code",
   "execution_count": 9,
   "metadata": {},
   "outputs": [
    {
     "name": "stderr",
     "output_type": "stream",
     "text": [
      "WARNING:matplotlib.image:Clipping input data to the valid range for imshow with RGB data ([0..1] for floats or [0..255] for integers).\n",
      "WARNING:matplotlib.image:Clipping input data to the valid range for imshow with RGB data ([0..1] for floats or [0..255] for integers).\n",
      "WARNING:matplotlib.image:Clipping input data to the valid range for imshow with RGB data ([0..1] for floats or [0..255] for integers).\n",
      "WARNING:matplotlib.image:Clipping input data to the valid range for imshow with RGB data ([0..1] for floats or [0..255] for integers).\n",
      "WARNING:matplotlib.image:Clipping input data to the valid range for imshow with RGB data ([0..1] for floats or [0..255] for integers).\n",
      "WARNING:matplotlib.image:Clipping input data to the valid range for imshow with RGB data ([0..1] for floats or [0..255] for integers).\n"
     ]
    },
    {
     "data": {
      "image/png": "[encoded data removed]",
      "text/plain": [
       "<Figure size 720x720 with 6 Axes>"
      ]
     },
     "metadata": {
      "needs_background": "light"
     },
     "output_type": "display_data"
    }
   ],
   "source": [
    "dataset.show_batch(num_batch=6);"
   ]
  },
  {
   "cell_type": "markdown",
   "metadata": {},
   "source": [
    "## Model"
   ]
  },
  {
   "cell_type": "code",
   "execution_count": 10,
   "metadata": {},
   "outputs": [],
   "source": [
    "class LinearHeadx1(nn.Module):\n",
    "    def __init__(self, n_in, n_out, n_mid=None, bias=True):\n",
    "        super(LinearHeadx1, self).__init__()\n",
    "        if n_mid:\n",
    "            self.li = nn.Linear(n_in, n_mid, bias=bias)\n",
    "            self.relu = F.relu\n",
    "        self.n_mid = n_mid\n",
    "        self.lf = nn.Linear(n_in if not n_mid else n_mid, n_out, bias=bias) \n",
    "\n",
    "    def forward(self, x):\n",
    "        return self.lf(x) if not self.n_mid else self.lf(F.relu(self.li(x)))"
   ]
  },
  {
   "cell_type": "code",
   "execution_count": 11,
   "metadata": {},
   "outputs": [],
   "source": [
    "class LinearHeadx3(nn.Module):\n",
    "    def __init__(self, n_in, n_mid=None):\n",
    "        super(LinearHeadx3, self).__init__()\n",
    "        self.l0 = LinearHeadx1(n_in, 168, n_mid)\n",
    "        self.l1 = LinearHeadx1(n_in, 11, n_mid)\n",
    "        self.l2 = LinearHeadx1(n_in, 7, n_mid)\n",
    "\n",
    "    def forward(self, x):\n",
    "        l0 = self.l0(x)  \n",
    "        l1 = self.l1(x)\n",
    "        l2 = self.l2(x)\n",
    "        return l0, l1, l2"
   ]
  },
  {
   "cell_type": "code",
   "execution_count": 12,
   "metadata": {},
   "outputs": [],
   "source": [
    "class Resnet34(nn.Module):\n",
    "    \"Create resnet 34 with custom_head; returns 3 outputs if nf=3 else 1 output; adds relu to custom_head if n_mid\"\n",
    "    def __init__(self, n_in, n_out=None, n_mid=None, nf=3, pretrained=False):\n",
    "        super(Resnet34, self).__init__()\n",
    "        model = models.resnet34(pretrained)\n",
    "        features = nn.Sequential(\n",
    "            *list(model.children())[:-2]\n",
    "            )\n",
    "        # group in initial, middle and later for discriminative learning rate\n",
    "        self.initial_layers = features[:4]\n",
    "        self.middle_layers  = features[4:7]\n",
    "        self.later_layers   = features[7:]\n",
    "        self.custom_head    = LinearHeadx3(n_in, n_mid) if nf==3 else LinearHeadx1(n_in, n_out, n_mid)\n",
    "        \n",
    "    def forward(self, x):\n",
    "        bs, _, _, _ = x.shape\n",
    "        x  = self.initial_layers(x)\n",
    "        x  = self.middle_layers(x)\n",
    "        x  = self.later_layers(x)\n",
    "        x  = F.adaptive_avg_pool2d(x, 1).reshape(bs, -1)\n",
    "        return self.custom_head(x)"
   ]
  },
  {
   "cell_type": "code",
   "execution_count": 13,
   "metadata": {},
   "outputs": [],
   "source": [
    "class Resnet50(nn.Module):\n",
    "    \"Create resnet 50 with custom_head; returns 3 outputs if nf=3 else 1 output; adds relu to custom_head if n_mid\"\n",
    "    def __init__(self, n_in, n_out=None, n_mid=None, nf=3, pretrained=False):\n",
    "        super(Resnet50, self).__init__()\n",
    "        model = models.resnet50(pretrained)\n",
    "        features = nn.Sequential(\n",
    "            *list(model.children())[:-2]\n",
    "            )\n",
    "        # group in initial, middle and later for discriminative learning rate\n",
    "        self.initial_layers = features[:4]\n",
    "        self.middle_layers  = features[4:7]\n",
    "        self.later_layers   = features[7:]\n",
    "        self.custom_head    = LinearHeadx3(n_in, n_mid) if nf==3 else LinearHeadx1(n_in, n_out, n_mid)\n",
    "        \n",
    "    def forward(self, x):\n",
    "        bs, _, _, _ = x.shape\n",
    "        x  = self.initial_layers(x)\n",
    "        x  = self.middle_layers(x)\n",
    "        x  = self.later_layers(x)\n",
    "        x  = F.adaptive_avg_pool2d(x, 1).reshape(bs, -1)\n",
    "        return self.custom_head(x)"
   ]
  },
  {
   "cell_type": "code",
   "execution_count": 14,
   "metadata": {},
   "outputs": [],
   "source": [
    "class SE_Resnext50(nn.Module):\n",
    "    def __init__(self, n_in, n_out=None, n_mid=None, pretrained=True, nf=3):\n",
    "        super(SE_Resnext50, self).__init__()\n",
    "        model  = pretrainedmodels.__dict__['se_resnext50_32x4d'](num_classes=1000, pretrained='imagenet' if pretrained else None)     \n",
    "        features = nn.Sequential(\n",
    "            *list(model.children())[:-2]\n",
    "            )\n",
    "        self.initial_layers = features[:2]\n",
    "        self.middle_layers  = features[2]\n",
    "        self.later_layers   = features[3:]\n",
    "        self.custom_head    = LinearHeadx3(n_in, n_mid) if nf==3 else LinearHeadx1(n_in, n_out, n_mid)\n",
    "        \n",
    "    def forward(self, x):\n",
    "        bs, _, _, _ = x.shape\n",
    "        x  = self.initial_layers(x)\n",
    "        x  = self.middle_layers(x)\n",
    "        x  = self.later_layers(x)\n",
    "        x  = F.adaptive_avg_pool2d(x, 1).reshape(bs, -1)\n",
    "        return self.custom_head(x)"
   ]
  },
  {
   "cell_type": "code",
   "execution_count": 15,
   "metadata": {},
   "outputs": [],
   "source": [
    "class EfficientNetB4(nn.Module):\n",
    "    \"Create resnet 34 with custom_head; returns 3 outputs if nf=3 else 1 output; adds relu to custom_head if n_mid\"\n",
    "    def __init__(self, n_in, n_out=None, n_mid=None, nf=3, pretrained=False):\n",
    "        super(EfficientNetB4, self).__init__()\n",
    "        model = EfficientNet.from_pretrained('efficientnet-b4')\n",
    "        features = nn.Sequential(\n",
    "        \n",
    "            *list(model.children())[:-2]\n",
    "            )\n",
    "        # group in initial, middle and later for discriminative learning rate\n",
    "        \n",
    "        self.initial_layers = features[:2]\n",
    "        self.middle_layers  = features[2:6]\n",
    "        self.later_layers   = features[6:]\n",
    "        self.custom_head    = LinearHeadx3(n_in, n_mid) if nf==3 else LinearHeadx1(n_in, n_out, n_mid)\n",
    "        \n",
    "    def forward(self, x):\n",
    "        bs, _, _, _ = x.shape\n",
    "        x  = self.initial_layers(x)\n",
    "        x  = self.middle_layers(x)\n",
    "        x  = self.later_layers(x)\n",
    "        return self.custom_head(x)"
   ]
  },
  {
   "cell_type": "code",
   "execution_count": 16,
   "metadata": {},
   "outputs": [],
   "source": [
    "MODEL_DISPATCHER = {\n",
    "    'resnet34': Resnet34, \n",
    "    'se_resnext50': SE_Resnext50, \n",
    "    'resnet50': Resnet50, \n",
    "    'efficientnetb4': EfficientNetB4\n",
    "}"
   ]
  },
  {
   "cell_type": "markdown",
   "metadata": {},
   "source": [
    "## Mixup"
   ]
  },
  {
   "cell_type": "code",
   "execution_count": 17,
   "metadata": {},
   "outputs": [],
   "source": [
    "def mixup_data(x, y, alpha=1.0, use_cuda=True):\n",
    "    if alpha > 0:\n",
    "        lam = np.random.beta(alpha, alpha)\n",
    "    else:\n",
    "        lam = 1\n",
    "\n",
    "    batch_size = x.size()[0]\n",
    "    if use_cuda:\n",
    "        index = torch.randperm(batch_size).cuda()\n",
    "    else:\n",
    "        index = torch.randperm(batch_size)\n",
    "\n",
    "    mixed_x = lam * x + (1 - lam) * x[index, :]\n",
    "    y_a, y_b = y, y[index]\n",
    "    return mixed_x, y_a, y_b, lam"
   ]
  },
  {
   "cell_type": "code",
   "execution_count": 18,
   "metadata": {},
   "outputs": [],
   "source": [
    "from pdb import set_trace"
   ]
  },
  {
   "cell_type": "code",
   "execution_count": 19,
   "metadata": {},
   "outputs": [],
   "source": [
    "def mixup_criterion(criterion, pred, y_a, y_b, lam):\n",
    "    return lam * criterion(pred, y_a) + (1 - lam) * criterion(pred, y_b)"
   ]
  },
  {
   "cell_type": "markdown",
   "metadata": {},
   "source": [
    "## Train & Validate"
   ]
  },
  {
   "cell_type": "markdown",
   "metadata": {},
   "source": [
    "Initializing model with pretrained weights : Resnet101"
   ]
  },
  {
   "cell_type": "code",
   "execution_count": 20,
   "metadata": {},
   "outputs": [],
   "source": [
    "def ifnone(a, b):\n",
    "    return a if b is None else b"
   ]
  },
  {
   "cell_type": "code",
   "execution_count": 21,
   "metadata": {},
   "outputs": [],
   "source": [
    "def get_ds_dl(Dataset, trn_fld=trn_fld, val_fld=val_fld, train_dataset=None, \n",
    "              train_dataloader=None, valid_dataset=None, valid_dataloader=None, \n",
    "              bs=256, subset=True, _df=None):\n",
    "    logger.info(f\"Train folds: {trn_fld}, validation fold: {val_fld}\")\n",
    "    train_dataset = ifnone(Dataset(folds=trn_fld, subset=subset, _df=df), train_dataset)\n",
    "    train_dataloader = ifnone(torch.utils.data.DataLoader(train_dataset, batch_size=bs, shuffle=False, \n",
    "                                                   num_workers=4), train_dataloader)\n",
    "    \n",
    "    valid_dataset = ifnone(Dataset(folds=[val_fld], subset=subset, _df=df), valid_dataset)\n",
    "    valid_dataloader = ifnone(torch.utils.data.DataLoader(valid_dataset, batch_size=bs, shuffle=True, num_workers=4), \n",
    "                              valid_dataloader)\n",
    "    return train_dataset, train_dataloader, valid_dataset, valid_dataloader"
   ]
  },
  {
   "cell_type": "code",
   "execution_count": 22,
   "metadata": {},
   "outputs": [],
   "source": [
    "def loss_func_x1(outputs, targets):\n",
    "    if targets.ndim>1: _, targets = targets.max(1)\n",
    "    return nn.CrossEntropyLoss()(outputs, targets)"
   ]
  },
  {
   "cell_type": "code",
   "execution_count": 23,
   "metadata": {},
   "outputs": [],
   "source": [
    "def loss_func_x3(outputs, targets, weighted=True):\n",
    "    \"return weighted loss if needed\"\n",
    "    grapheme_root, vowel_diacritic, consonant_diacritic = outputs\n",
    "    grapheme_root_, vowel_diacritic_, consonant_diacritic_ = targets \n",
    "    l1 = loss_func_x1(grapheme_root, grapheme_root_)\n",
    "    l2 = loss_func_x1(vowel_diacritic, vowel_diacritic_)\n",
    "    l3 = loss_func_x1(consonant_diacritic, consonant_diacritic_)\n",
    "    return ((2*l1)+l2+l3)/3  if weighted else (l1+l2+l3)/3"
   ]
  },
  {
   "cell_type": "code",
   "execution_count": 24,
   "metadata": {},
   "outputs": [],
   "source": [
    "def recall_score_x1(outputs, targets):\n",
    "    outputs = outputs.detach().cpu().numpy().argmax(axis=1)\n",
    "    targets = targets.detach().cpu().numpy()\n",
    "    return np.round(recall_score(targets, outputs, average='macro'), 4)*100"
   ]
  },
  {
   "cell_type": "code",
   "execution_count": 25,
   "metadata": {},
   "outputs": [],
   "source": [
    "def recall_loss_x3(outputs, targets, ret_scores=True):\n",
    "    \"calculates weighted kaggle metric during validation\"\n",
    "    grapheme_root, vowel_diacritic, consonant_diacritic = outputs\n",
    "    grapheme_root_, vowel_diacritic_, consonant_diacritic_ = targets \n",
    "    s1 = recall_score_x1(grapheme_root, grapheme_root_)\n",
    "    s2 = recall_score_x1(vowel_diacritic, vowel_diacritic_)\n",
    "    s3 = recall_score_x1(consonant_diacritic, consonant_diacritic_)\n",
    "    scores = [s1, s2, s3]\n",
    "    weighted_score = np.average(scores, weights=[2,1,1])\n",
    "    return weighted_score, s1, s2, s3 if ret_scores else weighted_score"
   ]
  },
  {
   "cell_type": "code",
   "execution_count": 26,
   "metadata": {},
   "outputs": [],
   "source": [
    "from pdb import set_trace"
   ]
  },
  {
   "cell_type": "code",
   "execution_count": 27,
   "metadata": {},
   "outputs": [],
   "source": [
    "def trainx1(dataset, data_loader, model, optimizer, scheduler, component, DEVICE='cuda', with_mixup=False):\n",
    "    assert type(model.custom_head) == LinearHeadx1, \"make sure model returns only one output\"\n",
    "    model.train()\n",
    "    final_loss = 0\n",
    "    counter = 0\n",
    "    for bi, d in tqdm(enumerate(data_loader), total=int(len(dataset) / data_loader.batch_size)):\n",
    "        optimizer.zero_grad()\n",
    "        image = d['image']\n",
    "        y     = d[component]\n",
    "        image = image.to(DEVICE, dtype=torch.float)\n",
    "        y = y.to(DEVICE, dtype=torch.long)\n",
    "        inputs, targets_a, targets_b, lam = mixup_data(image, y)\n",
    "        inputs, targets_a, targets_b = map(torch.autograd.Variable, (inputs, targets_a, targets_b))\n",
    "        outputs = model(inputs)\n",
    "        if with_mixup:\n",
    "            loss = mixup_criterion(loss_func_x1, outputs, targets_a, targets_b, lam)\n",
    "        else:\n",
    "            _, targets = y.max(1)\n",
    "            loss = loss_func_x1(outputs, targets)\n",
    "        loss.backward()\n",
    "        optimizer.step()\n",
    "        scheduler.step()\n",
    "        final_loss += float(loss)\n",
    "        counter += 1\n",
    "    return final_loss/counter"
   ]
  },
  {
   "cell_type": "code",
   "execution_count": 28,
   "metadata": {},
   "outputs": [],
   "source": [
    "def trainx3(dataset, data_loader, model, optimizer, scheduler, DEVICE='cuda'):\n",
    "    assert type(model.custom_head) == LinearHeadx3, \"make sure model returns three outputs\"\n",
    "    model.train()\n",
    "    final_loss = 0\n",
    "    counter = 0\n",
    "    for bi, d in tqdm(enumerate(data_loader), total=int(len(dataset) / data_loader.batch_size)):\n",
    "        image = d['image']\n",
    "        grapheme_root = d['grapheme_root']\n",
    "        vowel_diacritic = d['vowel_diacritic']\n",
    "        consonant_diacritic = d['consonant_diacritic']\n",
    "\n",
    "        image = image.to(DEVICE, dtype=torch.float)\n",
    "        grapheme_root = grapheme_root.to(DEVICE, dtype=torch.long)\n",
    "        vowel_diacritic = vowel_diacritic.to(DEVICE, dtype=torch.long)\n",
    "        consonant_diacritic = consonant_diacritic.to(DEVICE, dtype=torch.long)\n",
    "\n",
    "        optimizer.zero_grad()\n",
    "        outputs = model(image)\n",
    "        targets = (grapheme_root, vowel_diacritic, consonant_diacritic)\n",
    "        loss = loss_func_x3(outputs, targets)\n",
    "        loss.backward()\n",
    "        optimizer.step()\n",
    "        scheduler.step()\n",
    "        final_loss += float(loss)\n",
    "        counter += 1\n",
    "    return final_loss/counter"
   ]
  },
  {
   "cell_type": "code",
   "execution_count": 29,
   "metadata": {},
   "outputs": [],
   "source": [
    "def evaluatex1(dataset, data_loader, model, component, DEVICE='cuda'):\n",
    "    model.eval()\n",
    "    final_loss, final_score, final_l1, final_l2, final_l3, counter = 0, 0, 0, 0, 0, 0\n",
    "    for bi, d in tqdm(enumerate(data_loader), total=int(len(dataset) / data_loader.batch_size)):\n",
    "        counter+=1\n",
    "        image = d['image']\n",
    "        _, y = d[component].max(1)\n",
    "        image = image.to(DEVICE, dtype=torch.float)\n",
    "        y = y.to(DEVICE, dtype=torch.long)\n",
    "\n",
    "        with torch.no_grad():\n",
    "            outputs = model(image)\n",
    "            targets = y \n",
    "            loss = loss_func_x1(outputs, targets)\n",
    "            final_loss += float(loss)\n",
    "            score = recall_score_x1(outputs, targets)\n",
    "            final_score += score\n",
    "    return np.round(final_loss/counter,2), np.round(final_score/counter,2)"
   ]
  },
  {
   "cell_type": "code",
   "execution_count": 30,
   "metadata": {},
   "outputs": [],
   "source": [
    "def evaluatex3(dataset, data_loader, model, DEVICE='cuda'):\n",
    "    model.eval()\n",
    "    final_loss, final_score, final_l1, final_l2, final_l3, counter = 0, 0, 0, 0, 0, 0\n",
    "    for bi, d in tqdm(enumerate(data_loader), total=int(len(dataset) / data_loader.batch_size)):\n",
    "        counter+=1\n",
    "        image = d['image']\n",
    "        grapheme_root = d['grapheme_root']\n",
    "        vowel_diacritic = d['vowel_diacritic']\n",
    "        consonant_diacritic = d['consonant_diacritic']\n",
    "\n",
    "        image = image.to(DEVICE, dtype=torch.float)\n",
    "        grapheme_root = grapheme_root.to(DEVICE, dtype=torch.long)\n",
    "        vowel_diacritic = vowel_diacritic.to(DEVICE, dtype=torch.long)\n",
    "        consonant_diacritic = consonant_diacritic.to(DEVICE, dtype=torch.long)\n",
    "\n",
    "        with torch.no_grad():\n",
    "            outputs = model(image)\n",
    "            targets = (grapheme_root, vowel_diacritic, consonant_diacritic)\n",
    "            loss = loss_func_x3(outputs, targets)\n",
    "            final_loss += float(loss)\n",
    "            score, l1, l2, l3 = recall_loss_x3(outputs, targets)\n",
    "            final_score += score\n",
    "            final_l1 += l1\n",
    "            final_l2 += l2\n",
    "            final_l3 += l2\n",
    "    return np.round(final_loss/counter,2), np.round(final_score/counter,2), np.round(final_l1/counter,2), np.round(final_l2/counter,2), np.round(final_l3/counter,2)"
   ]
  },
  {
   "cell_type": "markdown",
   "metadata": {},
   "source": [
    "## Re-init model"
   ]
  },
  {
   "cell_type": "code",
   "execution_count": 31,
   "metadata": {},
   "outputs": [],
   "source": [
    "def get_model(model=\"resnet34\", cuda=True, **model_kwargs):\n",
    "    model = MODEL_DISPATCHER[model](pretrained=True, **model_kwargs)\n",
    "    if cuda: model = model.to(\"cuda\")\n",
    "    return model"
   ]
  },
  {
   "cell_type": "code",
   "execution_count": 32,
   "metadata": {},
   "outputs": [],
   "source": [
    "def reinit(model, bs=256, epochs=5, Dataset=BengaliDataset, trn_fld=trn_fld, val_fld=val_fld, \n",
    "           learning_rate=1e-3, train_dataset=None, train_dataloader=None, valid_dataset=None, \n",
    "           valid_dataloader=None, subset=True, _df=None, freeze_layers=False, **model_kwargs\n",
    "          ):\n",
    "    if model_kwargs: logger.info(f\"model_kwargs: {model_kwargs}\")  \n",
    "    model = get_model(model, **model_kwargs)\n",
    "    train_dataset, train_dataloader, valid_dataset, valid_dataloader = get_ds_dl(Dataset, trn_fld, val_fld, train_dataset, train_dataloader, valid_dataset, valid_dataloader, bs, subset, _df=df)\n",
    "    \n",
    "    if not freeze_layers:\n",
    "        optimizer = torch.optim.Adam([  \n",
    "            {'params': model.initial_layers.parameters(), 'lr': learning_rate/100},  \n",
    "            {'params': model.middle_layers.parameters(), 'lr': learning_rate/10},  \n",
    "            {'params': model.later_layers.parameters(), 'lr': learning_rate},  \n",
    "            {'params': model.custom_head.parameters(), 'lr': learning_rate},  \n",
    "        ], lr=learning_rate)\n",
    "    else:\n",
    "        optimizer = torch.optim.Adam([  \n",
    "            {'params': model.custom_head.parameters(), 'lr': learning_rate},  \n",
    "        ], lr=learning_rate)\n",
    "    logger.info(f\"number of parameter groups in optim: {len(optimizer.param_groups)}\")\n",
    "    \n",
    "    \n",
    "    scheduler = torch.optim.lr_scheduler.OneCycleLR(\n",
    "        optimizer, \n",
    "        steps_per_epoch=int(len(train_dataset)/train_dataloader.batch_size),\n",
    "        max_lr=learning_rate, \n",
    "        epochs=epochs\n",
    "    )\n",
    "    return model, train_dataset, train_dataloader, valid_dataset, valid_dataloader, optimizer, scheduler"
   ]
  },
  {
   "cell_type": "markdown",
   "metadata": {},
   "source": [
    "## Fit Function"
   ]
  },
  {
   "cell_type": "code",
   "execution_count": 33,
   "metadata": {},
   "outputs": [],
   "source": [
    "def fitx3(model, train_dataset, train_dataloader, valid_dataset, valid_dataloader, optimizer, scheduler, epochs = 10, DEVICE='cuda'):\n",
    "    for epoch in range(epochs):\n",
    "        logger.info(f\"running epoch {epoch+1} of {epochs}..\")\n",
    "        trn_loss = trainx3(train_dataset, train_dataloader, model, optimizer, scheduler)\n",
    "        val_loss, val_score, l1, l2, l3 = evaluatex3(valid_dataset, valid_dataloader, model)\n",
    "        logger.info(f\"validation recall score: {val_score}, grapheme_root recall: {l1}, vowel_diacritic recall: {l2}, consonant_diacritic recall: {l3}\")"
   ]
  },
  {
   "cell_type": "code",
   "execution_count": 34,
   "metadata": {},
   "outputs": [],
   "source": [
    "def fitx1(model, train_dataset, train_dataloader, valid_dataset, valid_dataloader, optimizer, scheduler, component, epochs = 10, DEVICE='cuda', with_mixup=False):\n",
    "    for epoch in range(epochs):\n",
    "        logger.info(f\"running epoch {epoch+1} of {epochs}..\")\n",
    "        trn_loss = trainx1(train_dataset, train_dataloader, model, optimizer, scheduler, component, with_mixup=with_mixup)\n",
    "        val_loss, val_score = evaluatex1(valid_dataset, valid_dataloader, model, component)\n",
    "        logger.info(f\"validation recall score: {val_score}\")"
   ]
  },
  {
   "cell_type": "code",
   "execution_count": 35,
   "metadata": {},
   "outputs": [
    {
     "data": {
      "text/plain": [
       "(23030, 6)"
      ]
     },
     "execution_count": 35,
     "metadata": {},
     "output_type": "execute_result"
    }
   ],
   "source": [
    "df = df[df.grapheme_root.isin(list(df.grapheme_root.value_counts()[-15:])+[72])].reset_index(drop=True)\n",
    "df.shape"
   ]
  },
  {
   "cell_type": "markdown",
   "metadata": {
    "heading_collapsed": true
   },
   "source": [
    "## Base model: 93.09"
   ]
  },
  {
   "cell_type": "code",
   "execution_count": 39,
   "metadata": {
    "hidden": true,
    "scrolled": false
   },
   "outputs": [
    {
     "name": "stderr",
     "output_type": "stream",
     "text": [
      "INFO:__main__:model_kwargs: {'nf': 1, 'n_in': 512, 'n_out': 168}\n",
      "INFO:__main__:Train folds: [2 1 4 0], validation fold: [3]\n",
      "INFO:__main__:running epoch 1 of 5..\n",
      "288it [01:14,  3.88it/s]                         \n",
      "  1%|▏         | 1/72 [00:00<00:19,  3.67it/s]/home/ubuntu/anaconda3/lib/python3.7/site-packages/sklearn/metrics/classification.py:1439: UndefinedMetricWarning: Recall is ill-defined and being set to 0.0 in labels with no true samples.\n",
      "  'recall', 'true', average, warn_for)\n",
      "73it [00:05, 12.44it/s]                        \n",
      "INFO:__main__:validation recall score: 53.41\n",
      "INFO:__main__:running epoch 2 of 5..\n",
      "288it [01:15,  3.82it/s]                         \n",
      "73it [00:05, 12.36it/s]                        \n",
      "INFO:__main__:validation recall score: 56.68\n",
      "INFO:__main__:running epoch 3 of 5..\n",
      "288it [01:16,  3.78it/s]                         \n",
      "73it [00:05, 12.27it/s]                        \n",
      "INFO:__main__:validation recall score: 72.77\n",
      "INFO:__main__:running epoch 4 of 5..\n",
      "288it [01:16,  3.75it/s]                         \n",
      "73it [00:05, 12.23it/s]                        \n",
      "INFO:__main__:validation recall score: 85.83\n",
      "INFO:__main__:running epoch 5 of 5..\n",
      "288it [01:17,  3.73it/s]                         \n",
      "73it [00:06, 12.13it/s]                        \n",
      "INFO:__main__:validation recall score: 89.05\n"
     ]
    }
   ],
   "source": [
    "epochs=5\n",
    "model, train_dataset, train_dataloader, valid_dataset, valid_dataloader, optimizer, scheduler = reinit(\n",
    "    'resnet34', bs=64, epochs=epochs, Dataset=BengaliDataset, nf=1, n_in=512, n_out=168, \n",
    "    subset=True)\n",
    "\n",
    "fitx1(model, train_dataset, train_dataloader, valid_dataset, valid_dataloader, optimizer, scheduler, \"grapheme_root\",\n",
    "      epochs, with_mixup=False)"
   ]
  },
  {
   "cell_type": "markdown",
   "metadata": {},
   "source": [
    "## Experiments"
   ]
  },
  {
   "cell_type": "markdown",
   "metadata": {},
   "source": [
    "### Try `mixup and basic augmentation` "
   ]
  },
  {
   "cell_type": "code",
   "execution_count": 37,
   "metadata": {},
   "outputs": [
    {
     "name": "stderr",
     "output_type": "stream",
     "text": [
      "INFO:__main__:model_kwargs: {'nf': 1, 'n_in': 2048, 'n_mid': 512, 'n_out': 168}\n",
      "INFO:__main__:Train folds: [2 1 4 0], validation fold: [3]\n",
      "INFO:__main__:number of parameter groups in optium: 4\n"
     ]
    }
   ],
   "source": [
    "epochs=5\n",
    "model, train_dataset, train_dataloader, valid_dataset, valid_dataloader, optimizer, scheduler = reinit(\n",
    "    'resnet50', bs=64, epochs=epochs, Dataset=BengaliDataset, nf=1, n_in=2048, n_mid=512, n_out=168, subset=False, \n",
    "    freeze_layers=False)"
   ]
  },
  {
   "cell_type": "code",
   "execution_count": 37,
   "metadata": {},
   "outputs": [],
   "source": [
    "train_dataset.aug =  albumentations.Compose([\n",
    "                albumentations.Resize(train_dataset.h, train_dataset.w, always_apply=True),\n",
    "                albumentations.HorizontalFlip(p=0.4),\n",
    "                albumentations.Cutout(8, p=0.35),\n",
    "                albumentations.Rotate(limit=5, p=0.3),\n",
    "                albumentations.Normalize(always_apply=True) \n",
    "            ])\n",
    "\n",
    "train_dataloader = torch.utils.data.DataLoader(\n",
    "    train_dataset, \n",
    "    batch_size=64, \n",
    "    shuffle=True,\n",
    "    num_workers=4\n",
    "    )"
   ]
  },
  {
   "cell_type": "code",
   "execution_count": null,
   "metadata": {},
   "outputs": [
    {
     "name": "stderr",
     "output_type": "stream",
     "text": [
      "INFO:__main__:running epoch 1 of 5..\n",
      " 14%|█▎        | 340/2510 [02:36<17:02,  2.12it/s]"
     ]
    }
   ],
   "source": [
    "fitx1(model, train_dataset, train_dataloader, valid_dataset, valid_dataloader, optimizer, scheduler, \"grapheme_root\",\n",
    "      epochs, with_mixup=True)"
   ]
  },
  {
   "cell_type": "markdown",
   "metadata": {
    "heading_collapsed": true
   },
   "source": [
    "### Add Augmentation"
   ]
  },
  {
   "cell_type": "code",
   "execution_count": null,
   "metadata": {
    "hidden": true
   },
   "outputs": [],
   "source": [
    "epochs=100\n",
    "model, train_dataset, train_dataloader, valid_dataset, valid_dataloader, optimizer, scheduler = reinit(\n",
    "    'se_resnext50', bs=256, epochs=epochs, Dataset=BengaliDataset, nf=1, n_in=2048, n_mid=512, n_out=168, subset=True, _df=df)"
   ]
  },
  {
   "cell_type": "code",
   "execution_count": null,
   "metadata": {
    "hidden": true
   },
   "outputs": [],
   "source": [
    "train_dataset.aug =  albumentations.Compose([\n",
    "                albumentations.Resize(train_dataset.h, train_dataset.w, always_apply=True),\n",
    "                albumentations.HorizontalFlip(p=0.6),\n",
    "                albumentations.Cutout(8),\n",
    "                albumentations.RandomBrightness(), \n",
    "                albumentations.RandomContrast(), \n",
    "                albumentations.Normalize(always_apply=True) \n",
    "            ])\n",
    "\n",
    "train_dataloader = torch.utils.data.DataLoader(\n",
    "    train_dataset, \n",
    "    batch_size=64, \n",
    "    shuffle=True,\n",
    "    num_workers=4\n",
    "    )"
   ]
  },
  {
   "cell_type": "code",
   "execution_count": null,
   "metadata": {
    "hidden": true,
    "scrolled": true
   },
   "outputs": [],
   "source": [
    "fitx1(model, train_dataset, train_dataloader, valid_dataset, valid_dataloader, optimizer, scheduler, \"grapheme_root\",\n",
    "      epochs)"
   ]
  },
  {
   "cell_type": "markdown",
   "metadata": {
    "heading_collapsed": true
   },
   "source": [
    "### Add sampler"
   ]
  },
  {
   "cell_type": "code",
   "execution_count": null,
   "metadata": {
    "hidden": true
   },
   "outputs": [],
   "source": [
    "def reinit_(model, update_folds=False, bs=256, epochs=5):\n",
    "    model = MODEL_DISPATCHER[model](pretrained=True)\n",
    "    model = model.to(\"cuda\")\n",
    "    logger.info(f\"Train folds: {trn_fld}, validation fold: {val_fld}\")\n",
    "    train_dataset = BengaliDataset(folds=trn_fld)\n",
    "    \n",
    "    weight_dict = dict(1/((train_dataset.df.grapheme_root.value_counts()/len(train_dataset.df))))\n",
    "    samples_weight = np.array([weight_dict[t] for t in train_dataset.grapheme_root])\n",
    "    \n",
    "    sampler = torch.utils.data.sampler.WeightedRandomSampler(samples_weight, len(samples_weight), \n",
    "                                                             replacement=False)\n",
    "    \n",
    "    train_dataloader = torch.utils.data.DataLoader(train_dataset, batch_size=bs, shuffle=False, \n",
    "                                                   sampler=sampler,\n",
    "                                                   num_workers=4)\n",
    "    valid_dataset = BengaliDataset(folds=[val_fld])\n",
    "    valid_dataloader = torch.utils.data.DataLoader(valid_dataset, batch_size=bs, shuffle=True, num_workers=4)\n",
    "    optimizer = torch.optim.Adam([  \n",
    "    {'params': model.initial_layers.parameters(), 'lr': learning_rate/100},  \n",
    "    {'params': model.middle_layers.parameters(), 'lr': learning_rate/10},  \n",
    "    {'params': model.later_layers.parameters(), 'lr': learning_rate},  \n",
    "    {'params': model.linear_layers.parameters(), 'lr': learning_rate},  \n",
    "], lr=learning_rate)\n",
    "    scheduler = torch.optim.lr_scheduler.OneCycleLR(\n",
    "    optimizer, \n",
    "    steps_per_epoch=int(len(train_dataset)/train_dataloader.batch_size),\n",
    "    max_lr=learning_rate, \n",
    "    epochs=epochs\n",
    "    )\n",
    "    return model, train_dataset, train_dataloader, valid_dataset, valid_dataloader, optimizer, scheduler"
   ]
  },
  {
   "cell_type": "code",
   "execution_count": null,
   "metadata": {
    "hidden": true
   },
   "outputs": [],
   "source": [
    "model, train_dataset, train_dataloader, valid_dataset, valid_dataloader, optimizer, scheduler = reinit_('resnet101', epochs=15)"
   ]
  },
  {
   "cell_type": "code",
   "execution_count": null,
   "metadata": {
    "hidden": true
   },
   "outputs": [],
   "source": [
    "EPOCHS = 15; DEVICE='cuda'\n",
    "for epoch in range(EPOCHS):\n",
    "    logger.info(f\"running epoch {epoch+1} of {EPOCHS}..\")\n",
    "    trn_loss = train(train_dataset, train_dataloader, model, optimizer, scheduler)\n",
    "    val_loss, val_score = evaluate(valid_dataset, valid_dataloader, model)\n",
    "    logger.info(f\"validation recall score: {val_score}\")\n",
    "    writer.add_scalars(\n",
    "        'sampler_full', {'Loss/train': trn_loss, 'Loss/test': val_loss, 'val_score': val_score}, epoch\n",
    "    )"
   ]
  },
  {
   "cell_type": "markdown",
   "metadata": {
    "heading_collapsed": true
   },
   "source": [
    "### Add `HorizontalFlip`"
   ]
  },
  {
   "cell_type": "code",
   "execution_count": null,
   "metadata": {
    "hidden": true
   },
   "outputs": [],
   "source": [
    "train_dataset.aug =  albumentations.Compose([\n",
    "                albumentations.Resize(train_dataset.h, train_dataset.w, always_apply=True),\n",
    "                albumentations.HorizontalFlip(p=0.6),\n",
    "                albumentations.Normalize(always_apply=True) \n",
    "            ])\n",
    "\n",
    "train_dataloader = torch.utils.data.DataLoader(\n",
    "    train_dataset, \n",
    "    batch_size=256, \n",
    "    shuffle=True,\n",
    "    num_workers=4\n",
    "    )"
   ]
  },
  {
   "cell_type": "code",
   "execution_count": null,
   "metadata": {
    "hidden": true
   },
   "outputs": [],
   "source": [
    "model, train_dataset, train_dataloader, valid_dataset, valid_dataloader, optimizer, scheduler = reinit(\n",
    "    'resnet34', bs=256, epochs=epochs, Dataset=BengaliDataset, nf=3, n_in=512, train_dataset=train_dataset, train_dataloader=train_dataloader)\n",
    "# fitx3(model, train_dataset, train_dataloader, valid_dataset, valid_dataloader, optimizer, scheduler, epochs)"
   ]
  },
  {
   "cell_type": "markdown",
   "metadata": {
    "heading_collapsed": true
   },
   "source": [
    "### Try `SeResNext50`"
   ]
  },
  {
   "cell_type": "code",
   "execution_count": null,
   "metadata": {
    "hidden": true
   },
   "outputs": [],
   "source": [
    "train_dataset.aug =  albumentations.Compose([\n",
    "                albumentations.Resize(train_dataset.h, train_dataset.w, always_apply=True),\n",
    "                albumentations.HorizontalFlip(p=0.6),\n",
    "                albumentations.Normalize(always_apply=True) \n",
    "            ])\n",
    "\n",
    "train_dataloader = torch.utils.data.DataLoader(\n",
    "    train_dataset, \n",
    "    batch_size=64, \n",
    "    shuffle=True,\n",
    "    num_workers=4\n",
    "    )"
   ]
  },
  {
   "cell_type": "code",
   "execution_count": null,
   "metadata": {
    "hidden": true
   },
   "outputs": [],
   "source": [
    "epochs = 20\n",
    "model, train_dataset, train_dataloader, valid_dataset, valid_dataloader, optimizer, scheduler = reinit(\n",
    "    'se_resnext50', bs=64, epochs=epochs, Dataset=BengaliDataset, nf=3, n_in=2048, n_mid=512, train_dataset=train_dataset, train_dataloader=train_dataloader)"
   ]
  },
  {
   "cell_type": "code",
   "execution_count": null,
   "metadata": {
    "hidden": true
   },
   "outputs": [],
   "source": [
    "fitx3(model, train_dataset, train_dataloader, valid_dataset, valid_dataloader, optimizer, scheduler, epochs)"
   ]
  },
  {
   "cell_type": "markdown",
   "metadata": {
    "heading_collapsed": true
   },
   "source": [
    "### `Horizontal Flip` + `Grapheme Root` + `SeResnext50`"
   ]
  },
  {
   "cell_type": "code",
   "execution_count": null,
   "metadata": {
    "hidden": true
   },
   "outputs": [],
   "source": [
    "class GraphemeRootDataset(BengaliDataset):\n",
    "    def __getitem__(self, idx):\n",
    "        image = joblib.load(f\"{self.data_path}/image_pickles/{self.img_ids[idx]}.pkl\")\n",
    "        image = image.reshape(self.h, self.w).astype(float)\n",
    "        image = Image.fromarray(image).convert(\"RGB\")\n",
    "        image = self.aug(image=np.array(image))['image']\n",
    "        image = np.transpose(image, (2, 0, 1)).astype(np.float32)\n",
    "        return {\n",
    "            'image': torch.tensor(image, dtype=torch.float),\n",
    "            'grapheme_root': torch.tensor(self.grapheme_root[idx], dtype=torch.long), \n",
    "        }"
   ]
  },
  {
   "cell_type": "code",
   "execution_count": null,
   "metadata": {
    "hidden": true
   },
   "outputs": [],
   "source": [
    "epochs=20\n",
    "model, train_dataset, train_dataloader, valid_dataset, valid_dataloader, optimizer, scheduler = reinit(\n",
    "    'se_resnext50', bs=64, epochs=epochs, Dataset=GraphemeRootDataset, nf=1, n_in=2048, n_out=168, n_mid=512, \n",
    "    subset=True)"
   ]
  },
  {
   "cell_type": "code",
   "execution_count": null,
   "metadata": {
    "hidden": true
   },
   "outputs": [],
   "source": [
    "model.custom_head"
   ]
  },
  {
   "cell_type": "code",
   "execution_count": null,
   "metadata": {
    "hidden": true
   },
   "outputs": [],
   "source": [
    "train_dataset.aug =  albumentations.Compose([\n",
    "                albumentations.Resize(train_dataset.h, train_dataset.w, always_apply=True),\n",
    "                albumentations.HorizontalFlip(p=0.6),\n",
    "                albumentations.Cutout(16),\n",
    "                albumentations.Normalize(always_apply=True) \n",
    "            ])\n",
    "\n",
    "train_dataloader = torch.utils.data.DataLoader(\n",
    "    train_dataset, \n",
    "    batch_size=64, \n",
    "    shuffle=True,\n",
    "    num_workers=4\n",
    "    )"
   ]
  },
  {
   "cell_type": "code",
   "execution_count": null,
   "metadata": {
    "hidden": true
   },
   "outputs": [],
   "source": [
    "train_dataset.show_batch()"
   ]
  },
  {
   "cell_type": "code",
   "execution_count": null,
   "metadata": {
    "hidden": true
   },
   "outputs": [],
   "source": [
    "fitx1(model, train_dataset, train_dataloader, valid_dataset, valid_dataloader, \n",
    "      optimizer=optimizer, scheduler=scheduler, epochs=epochs, component='grapheme_root')"
   ]
  },
  {
   "cell_type": "code",
   "execution_count": null,
   "metadata": {
    "hidden": true
   },
   "outputs": [],
   "source": [
    "torch.save(model.state_dict(), \"seresnext50_cutout-HRFlip_20epochs.bin\")\n",
    "torch.save(optimizer.state_dict(), 'opt.bin')"
   ]
  },
  {
   "cell_type": "code",
   "execution_count": null,
   "metadata": {
    "hidden": true
   },
   "outputs": [],
   "source": [
    "learning_rate = 1e-8\n",
    "optimizer = torch.optim.Adam([  \n",
    "    {'params': model.initial_layers.parameters(), 'lr': learning_rate/100},  \n",
    "    {'params': model.middle_layers.parameters(), 'lr': learning_rate/10},  \n",
    "    {'params': model.later_layers.parameters(), 'lr': learning_rate},  \n",
    "    {'params': model.custom_head.parameters(), 'lr': learning_rate},  \n",
    "], lr=learning_rate)\n",
    "\n",
    "scheduler = torch.optim.lr_scheduler.OneCycleLR(\n",
    "    optimizer, \n",
    "    steps_per_epoch=int(len(train_dataset)/train_dataloader.batch_size),\n",
    "    max_lr=learning_rate, \n",
    "    epochs=epochs\n",
    ")"
   ]
  },
  {
   "cell_type": "code",
   "execution_count": null,
   "metadata": {
    "hidden": true
   },
   "outputs": [],
   "source": [
    "fitx1(model, train_dataset, train_dataloader, valid_dataset, valid_dataloader, \n",
    "      optimizer=optimizer, scheduler=scheduler, epochs=epochs, component='grapheme_root')"
   ]
  },
  {
   "cell_type": "markdown",
   "metadata": {
    "heading_collapsed": true
   },
   "source": [
    "### CenterCrop: `grapheme_root` 95.08"
   ]
  },
  {
   "cell_type": "code",
   "execution_count": null,
   "metadata": {
    "hidden": true
   },
   "outputs": [],
   "source": [
    "epochs=20\n",
    "model, train_dataset, train_dataloader, valid_dataset, valid_dataloader, optimizer, scheduler = reinit(\n",
    "    'resnet34', bs=256, epochs=epochs, Dataset=BengaliDataset, nf=1, n_in=512, n_out=168, \n",
    "    subset=True)"
   ]
  },
  {
   "cell_type": "code",
   "execution_count": null,
   "metadata": {
    "hidden": true
   },
   "outputs": [],
   "source": [
    "train_dataset.aug =  albumentations.Compose([\n",
    "                albumentations.Resize(train_dataset.h, train_dataset.w, always_apply=True),\n",
    "                albumentations.CenterCrop(height=137, width=137, always_apply=True),\n",
    "                albumentations.Normalize(always_apply=True) \n",
    "            ])\n",
    "\n",
    "train_dataloader = torch.utils.data.DataLoader(\n",
    "    train_dataset, \n",
    "    batch_size=256, \n",
    "    shuffle=True,\n",
    "    num_workers=4\n",
    "    )\n",
    "\n",
    "valid_dataset.aug =  albumentations.Compose([\n",
    "                albumentations.Resize(train_dataset.h, train_dataset.w, always_apply=True),\n",
    "                albumentations.CenterCrop(height=137, width=137, always_apply=True),\n",
    "                albumentations.Normalize(always_apply=True) \n",
    "            ])\n",
    "\n",
    "valid_dataloader = torch.utils.data.DataLoader(\n",
    "    valid_dataset, \n",
    "    batch_size=256, \n",
    "    shuffle=True,\n",
    "    num_workers=4\n",
    "    )"
   ]
  },
  {
   "cell_type": "code",
   "execution_count": null,
   "metadata": {
    "hidden": true,
    "scrolled": true
   },
   "outputs": [],
   "source": [
    "fitx1(model, train_dataset, train_dataloader, valid_dataset, valid_dataloader, optimizer, scheduler, \"grapheme_root\",\n",
    "      epochs)"
   ]
  },
  {
   "cell_type": "markdown",
   "metadata": {
    "heading_collapsed": true
   },
   "source": [
    "### Random Crop : 94.13\n",
    "> What we normally do in practice is to randomly select part of the image, and crop to just that part. On each epoch (which is one complete pass through all of our images in the dataset) we randomly select a different part of each image. This means that our model can learn to focus on, and recognize, different features in our images."
   ]
  },
  {
   "cell_type": "code",
   "execution_count": 32,
   "metadata": {
    "hidden": true
   },
   "outputs": [
    {
     "name": "stderr",
     "output_type": "stream",
     "text": [
      "INFO:__main__:model_kwargs: {'nf': 1, 'n_in': 2048, 'n_mid': 512, 'n_out': 168}\n",
      "INFO:__main__:Train folds: [2 1 4 0], validation fold: [3]\n"
     ]
    }
   ],
   "source": [
    "epochs=75\n",
    "model, train_dataset, train_dataloader, valid_dataset, valid_dataloader, optimizer, scheduler = reinit(\n",
    "    'se_resnext50', bs=128, epochs=epochs, Dataset=BengaliDataset, nf=1, n_in=2048, n_mid=512, n_out=168, \n",
    "    subset=False)"
   ]
  },
  {
   "cell_type": "code",
   "execution_count": 33,
   "metadata": {
    "hidden": true
   },
   "outputs": [],
   "source": [
    "train_dataset.aug =  albumentations.Compose([\n",
    "                albumentations.Resize(train_dataset.h, train_dataset.w, always_apply=True),\n",
    "                albumentations.RandomCrop(height=128, width=128, always_apply=True),\n",
    "                albumentations.Normalize(always_apply=True) \n",
    "            ])\n",
    "\n",
    "train_dataloader = torch.utils.data.DataLoader(\n",
    "    train_dataset, \n",
    "    batch_size=256, \n",
    "    shuffle=True,\n",
    "    num_workers=4\n",
    "    )\n",
    "\n",
    "valid_dataset.aug =  albumentations.Compose([\n",
    "                albumentations.Resize(train_dataset.h, train_dataset.w, always_apply=True),\n",
    "                albumentations.CenterCrop(height=128, width=128, always_apply=True),\n",
    "                albumentations.Normalize(always_apply=True) \n",
    "            ])\n",
    "\n",
    "valid_dataloader = torch.utils.data.DataLoader(\n",
    "    valid_dataset, \n",
    "    batch_size=256, \n",
    "    shuffle=True,\n",
    "    num_workers=4\n",
    "    )"
   ]
  },
  {
   "cell_type": "code",
   "execution_count": 34,
   "metadata": {
    "hidden": true
   },
   "outputs": [],
   "source": [
    "from tqdm.notebook import tqdm"
   ]
  },
  {
   "cell_type": "code",
   "execution_count": null,
   "metadata": {
    "hidden": true,
    "scrolled": false
   },
   "outputs": [
    {
     "name": "stderr",
     "output_type": "stream",
     "text": [
      "INFO:__main__:running epoch 1 of 75..\n"
     ]
    },
    {
     "data": {
      "application/vnd.jupyter.widget-view+json": {
       "model_id": "3cf303f8942c4fe19884ac8d0d9ae53b",
       "version_major": 2,
       "version_minor": 0
      },
      "text/plain": [
       "HBox(children=(IntProgress(value=0, max=627), HTML(value='')))"
      ]
     },
     "metadata": {},
     "output_type": "display_data"
    },
    {
     "name": "stdout",
     "output_type": "stream",
     "text": [
      "\n"
     ]
    },
    {
     "data": {
      "application/vnd.jupyter.widget-view+json": {
       "model_id": "5699ad8ed21247a99667ae8d0e2a51b9",
       "version_major": 2,
       "version_minor": 0
      },
      "text/plain": [
       "HBox(children=(IntProgress(value=0, max=156), HTML(value='')))"
      ]
     },
     "metadata": {},
     "output_type": "display_data"
    },
    {
     "name": "stderr",
     "output_type": "stream",
     "text": [
      "/home/ubuntu/anaconda3/lib/python3.7/site-packages/sklearn/metrics/classification.py:1439: UndefinedMetricWarning: Recall is ill-defined and being set to 0.0 in labels with no true samples.\n",
      "  'recall', 'true', average, warn_for)\n",
      "INFO:__main__:validation recall score: 72.95\n",
      "INFO:__main__:running epoch 2 of 75..\n"
     ]
    },
    {
     "name": "stdout",
     "output_type": "stream",
     "text": [
      "\n"
     ]
    },
    {
     "data": {
      "application/vnd.jupyter.widget-view+json": {
       "model_id": "967f8bc0e4054d70b2123b11023db408",
       "version_major": 2,
       "version_minor": 0
      },
      "text/plain": [
       "HBox(children=(IntProgress(value=0, max=627), HTML(value='')))"
      ]
     },
     "metadata": {},
     "output_type": "display_data"
    },
    {
     "name": "stdout",
     "output_type": "stream",
     "text": [
      "\n"
     ]
    },
    {
     "data": {
      "application/vnd.jupyter.widget-view+json": {
       "model_id": "f1eaa7c3eb944a4fa063e1aded0ba2e6",
       "version_major": 2,
       "version_minor": 0
      },
      "text/plain": [
       "HBox(children=(IntProgress(value=0, max=156), HTML(value='')))"
      ]
     },
     "metadata": {},
     "output_type": "display_data"
    },
    {
     "name": "stderr",
     "output_type": "stream",
     "text": [
      "INFO:__main__:validation recall score: 85.06\n",
      "INFO:__main__:running epoch 3 of 75..\n"
     ]
    },
    {
     "name": "stdout",
     "output_type": "stream",
     "text": [
      "\n"
     ]
    },
    {
     "data": {
      "application/vnd.jupyter.widget-view+json": {
       "model_id": "98041bed6cd147e48c4d4dbc43d3da46",
       "version_major": 2,
       "version_minor": 0
      },
      "text/plain": [
       "HBox(children=(IntProgress(value=0, max=627), HTML(value='')))"
      ]
     },
     "metadata": {},
     "output_type": "display_data"
    },
    {
     "name": "stdout",
     "output_type": "stream",
     "text": [
      "\n"
     ]
    },
    {
     "data": {
      "application/vnd.jupyter.widget-view+json": {
       "model_id": "f8dda49e7c934763a3fe2ec47210704b",
       "version_major": 2,
       "version_minor": 0
      },
      "text/plain": [
       "HBox(children=(IntProgress(value=0, max=156), HTML(value='')))"
      ]
     },
     "metadata": {},
     "output_type": "display_data"
    },
    {
     "name": "stderr",
     "output_type": "stream",
     "text": [
      "INFO:__main__:validation recall score: 87.81\n",
      "INFO:__main__:running epoch 4 of 75..\n"
     ]
    },
    {
     "name": "stdout",
     "output_type": "stream",
     "text": [
      "\n"
     ]
    },
    {
     "data": {
      "application/vnd.jupyter.widget-view+json": {
       "model_id": "82ff1d42077a4679b83f8cbf80f1981a",
       "version_major": 2,
       "version_minor": 0
      },
      "text/plain": [
       "HBox(children=(IntProgress(value=0, max=627), HTML(value='')))"
      ]
     },
     "metadata": {},
     "output_type": "display_data"
    },
    {
     "name": "stdout",
     "output_type": "stream",
     "text": [
      "\n"
     ]
    },
    {
     "data": {
      "application/vnd.jupyter.widget-view+json": {
       "model_id": "2c8c4e23df294603b0984ec78afa75dd",
       "version_major": 2,
       "version_minor": 0
      },
      "text/plain": [
       "HBox(children=(IntProgress(value=0, max=156), HTML(value='')))"
      ]
     },
     "metadata": {},
     "output_type": "display_data"
    },
    {
     "name": "stderr",
     "output_type": "stream",
     "text": [
      "INFO:__main__:validation recall score: 89.38\n",
      "INFO:__main__:running epoch 5 of 75..\n"
     ]
    },
    {
     "name": "stdout",
     "output_type": "stream",
     "text": [
      "\n"
     ]
    },
    {
     "data": {
      "application/vnd.jupyter.widget-view+json": {
       "model_id": "214a8863847e43f1825fe8fdc98d6571",
       "version_major": 2,
       "version_minor": 0
      },
      "text/plain": [
       "HBox(children=(IntProgress(value=0, max=627), HTML(value='')))"
      ]
     },
     "metadata": {},
     "output_type": "display_data"
    },
    {
     "name": "stdout",
     "output_type": "stream",
     "text": [
      "\n"
     ]
    },
    {
     "data": {
      "application/vnd.jupyter.widget-view+json": {
       "model_id": "9c074e4a232b481ab3ee397fc9f3c3bd",
       "version_major": 2,
       "version_minor": 0
      },
      "text/plain": [
       "HBox(children=(IntProgress(value=0, max=156), HTML(value='')))"
      ]
     },
     "metadata": {},
     "output_type": "display_data"
    },
    {
     "name": "stderr",
     "output_type": "stream",
     "text": [
      "INFO:__main__:validation recall score: 89.52\n",
      "INFO:__main__:running epoch 6 of 75..\n"
     ]
    },
    {
     "name": "stdout",
     "output_type": "stream",
     "text": [
      "\n"
     ]
    },
    {
     "data": {
      "application/vnd.jupyter.widget-view+json": {
       "model_id": "624c34acfea643b3ae6b2c2278b78f53",
       "version_major": 2,
       "version_minor": 0
      },
      "text/plain": [
       "HBox(children=(IntProgress(value=0, max=627), HTML(value='')))"
      ]
     },
     "metadata": {},
     "output_type": "display_data"
    },
    {
     "name": "stdout",
     "output_type": "stream",
     "text": [
      "\n"
     ]
    },
    {
     "data": {
      "application/vnd.jupyter.widget-view+json": {
       "model_id": "119eee205021458abb2f6280f3a14e90",
       "version_major": 2,
       "version_minor": 0
      },
      "text/plain": [
       "HBox(children=(IntProgress(value=0, max=156), HTML(value='')))"
      ]
     },
     "metadata": {},
     "output_type": "display_data"
    },
    {
     "name": "stderr",
     "output_type": "stream",
     "text": [
      "INFO:__main__:validation recall score: 89.79\n",
      "INFO:__main__:running epoch 7 of 75..\n"
     ]
    },
    {
     "name": "stdout",
     "output_type": "stream",
     "text": [
      "\n"
     ]
    },
    {
     "data": {
      "application/vnd.jupyter.widget-view+json": {
       "model_id": "173eb1a63c41452798ab4bb40e79b9e6",
       "version_major": 2,
       "version_minor": 0
      },
      "text/plain": [
       "HBox(children=(IntProgress(value=0, max=627), HTML(value='')))"
      ]
     },
     "metadata": {},
     "output_type": "display_data"
    },
    {
     "name": "stdout",
     "output_type": "stream",
     "text": [
      "\n"
     ]
    },
    {
     "data": {
      "application/vnd.jupyter.widget-view+json": {
       "model_id": "85e90f5ff7194165a762b3e7f5a675d9",
       "version_major": 2,
       "version_minor": 0
      },
      "text/plain": [
       "HBox(children=(IntProgress(value=0, max=156), HTML(value='')))"
      ]
     },
     "metadata": {},
     "output_type": "display_data"
    },
    {
     "name": "stderr",
     "output_type": "stream",
     "text": [
      "INFO:__main__:validation recall score: 89.78\n",
      "INFO:__main__:running epoch 8 of 75..\n"
     ]
    },
    {
     "name": "stdout",
     "output_type": "stream",
     "text": [
      "\n"
     ]
    },
    {
     "data": {
      "application/vnd.jupyter.widget-view+json": {
       "model_id": "73c4007db51d4911aa11b3842fc353d6",
       "version_major": 2,
       "version_minor": 0
      },
      "text/plain": [
       "HBox(children=(IntProgress(value=0, max=627), HTML(value='')))"
      ]
     },
     "metadata": {},
     "output_type": "display_data"
    },
    {
     "name": "stdout",
     "output_type": "stream",
     "text": [
      "\n"
     ]
    },
    {
     "data": {
      "application/vnd.jupyter.widget-view+json": {
       "model_id": "26ce3624477341cba81ba012af779b5d",
       "version_major": 2,
       "version_minor": 0
      },
      "text/plain": [
       "HBox(children=(IntProgress(value=0, max=156), HTML(value='')))"
      ]
     },
     "metadata": {},
     "output_type": "display_data"
    },
    {
     "name": "stderr",
     "output_type": "stream",
     "text": [
      "INFO:__main__:validation recall score: 90.27\n",
      "INFO:__main__:running epoch 9 of 75..\n"
     ]
    },
    {
     "name": "stdout",
     "output_type": "stream",
     "text": [
      "\n"
     ]
    },
    {
     "data": {
      "application/vnd.jupyter.widget-view+json": {
       "model_id": "5829928f15d94a209e5905cbda6485d3",
       "version_major": 2,
       "version_minor": 0
      },
      "text/plain": [
       "HBox(children=(IntProgress(value=0, max=627), HTML(value='')))"
      ]
     },
     "metadata": {},
     "output_type": "display_data"
    },
    {
     "name": "stdout",
     "output_type": "stream",
     "text": [
      "\n"
     ]
    },
    {
     "data": {
      "application/vnd.jupyter.widget-view+json": {
       "model_id": "6a2f24dd6d6e48a8bf7719b0a0488adc",
       "version_major": 2,
       "version_minor": 0
      },
      "text/plain": [
       "HBox(children=(IntProgress(value=0, max=156), HTML(value='')))"
      ]
     },
     "metadata": {},
     "output_type": "display_data"
    },
    {
     "name": "stderr",
     "output_type": "stream",
     "text": [
      "INFO:__main__:validation recall score: 89.85\n",
      "INFO:__main__:running epoch 10 of 75..\n"
     ]
    },
    {
     "name": "stdout",
     "output_type": "stream",
     "text": [
      "\n"
     ]
    },
    {
     "data": {
      "application/vnd.jupyter.widget-view+json": {
       "model_id": "26046805044c403cb043a6c9e2e6d1de",
       "version_major": 2,
       "version_minor": 0
      },
      "text/plain": [
       "HBox(children=(IntProgress(value=0, max=627), HTML(value='')))"
      ]
     },
     "metadata": {},
     "output_type": "display_data"
    },
    {
     "name": "stdout",
     "output_type": "stream",
     "text": [
      "\n"
     ]
    },
    {
     "data": {
      "application/vnd.jupyter.widget-view+json": {
       "model_id": "49e033306f54491db7816024b7b9b341",
       "version_major": 2,
       "version_minor": 0
      },
      "text/plain": [
       "HBox(children=(IntProgress(value=0, max=156), HTML(value='')))"
      ]
     },
     "metadata": {},
     "output_type": "display_data"
    },
    {
     "name": "stderr",
     "output_type": "stream",
     "text": [
      "INFO:__main__:validation recall score: 90.07\n",
      "INFO:__main__:running epoch 11 of 75..\n"
     ]
    },
    {
     "name": "stdout",
     "output_type": "stream",
     "text": [
      "\n"
     ]
    },
    {
     "data": {
      "application/vnd.jupyter.widget-view+json": {
       "model_id": "ec5337bf8ff0494d8d8738a018fae864",
       "version_major": 2,
       "version_minor": 0
      },
      "text/plain": [
       "HBox(children=(IntProgress(value=0, max=627), HTML(value='')))"
      ]
     },
     "metadata": {},
     "output_type": "display_data"
    },
    {
     "name": "stdout",
     "output_type": "stream",
     "text": [
      "\n"
     ]
    },
    {
     "data": {
      "application/vnd.jupyter.widget-view+json": {
       "model_id": "4ab253df5def4b819f2443cb9844bccc",
       "version_major": 2,
       "version_minor": 0
      },
      "text/plain": [
       "HBox(children=(IntProgress(value=0, max=156), HTML(value='')))"
      ]
     },
     "metadata": {},
     "output_type": "display_data"
    },
    {
     "name": "stderr",
     "output_type": "stream",
     "text": [
      "INFO:__main__:validation recall score: 90.38\n",
      "INFO:__main__:running epoch 12 of 75..\n"
     ]
    },
    {
     "name": "stdout",
     "output_type": "stream",
     "text": [
      "\n"
     ]
    },
    {
     "data": {
      "application/vnd.jupyter.widget-view+json": {
       "model_id": "c8bd963649234838aa17b8a4048a0ada",
       "version_major": 2,
       "version_minor": 0
      },
      "text/plain": [
       "HBox(children=(IntProgress(value=0, max=627), HTML(value='')))"
      ]
     },
     "metadata": {},
     "output_type": "display_data"
    },
    {
     "name": "stdout",
     "output_type": "stream",
     "text": [
      "\n"
     ]
    },
    {
     "data": {
      "application/vnd.jupyter.widget-view+json": {
       "model_id": "3dc1e388090b45eba61178661179349b",
       "version_major": 2,
       "version_minor": 0
      },
      "text/plain": [
       "HBox(children=(IntProgress(value=0, max=156), HTML(value='')))"
      ]
     },
     "metadata": {},
     "output_type": "display_data"
    },
    {
     "name": "stderr",
     "output_type": "stream",
     "text": [
      "INFO:__main__:validation recall score: 90.23\n",
      "INFO:__main__:running epoch 13 of 75..\n"
     ]
    },
    {
     "name": "stdout",
     "output_type": "stream",
     "text": [
      "\n"
     ]
    },
    {
     "data": {
      "application/vnd.jupyter.widget-view+json": {
       "model_id": "5e6e8ae7a9264a5a9c2a6e6088bbe047",
       "version_major": 2,
       "version_minor": 0
      },
      "text/plain": [
       "HBox(children=(IntProgress(value=0, max=627), HTML(value='')))"
      ]
     },
     "metadata": {},
     "output_type": "display_data"
    },
    {
     "name": "stdout",
     "output_type": "stream",
     "text": [
      "\n"
     ]
    },
    {
     "data": {
      "application/vnd.jupyter.widget-view+json": {
       "model_id": "5c4aa7ba2a2742af8cffe0d6a6b1cef8",
       "version_major": 2,
       "version_minor": 0
      },
      "text/plain": [
       "HBox(children=(IntProgress(value=0, max=156), HTML(value='')))"
      ]
     },
     "metadata": {},
     "output_type": "display_data"
    },
    {
     "name": "stderr",
     "output_type": "stream",
     "text": [
      "INFO:__main__:validation recall score: 90.54\n",
      "INFO:__main__:running epoch 14 of 75..\n"
     ]
    },
    {
     "name": "stdout",
     "output_type": "stream",
     "text": [
      "\n"
     ]
    },
    {
     "data": {
      "application/vnd.jupyter.widget-view+json": {
       "model_id": "b6876650d6714a90a9a6231b57dd258d",
       "version_major": 2,
       "version_minor": 0
      },
      "text/plain": [
       "HBox(children=(IntProgress(value=0, max=627), HTML(value='')))"
      ]
     },
     "metadata": {},
     "output_type": "display_data"
    },
    {
     "name": "stdout",
     "output_type": "stream",
     "text": [
      "\n"
     ]
    },
    {
     "data": {
      "application/vnd.jupyter.widget-view+json": {
       "model_id": "8a2f71d65d2d4288b92766eb28c77874",
       "version_major": 2,
       "version_minor": 0
      },
      "text/plain": [
       "HBox(children=(IntProgress(value=0, max=156), HTML(value='')))"
      ]
     },
     "metadata": {},
     "output_type": "display_data"
    },
    {
     "name": "stderr",
     "output_type": "stream",
     "text": [
      "INFO:__main__:validation recall score: 90.33\n",
      "INFO:__main__:running epoch 15 of 75..\n"
     ]
    },
    {
     "name": "stdout",
     "output_type": "stream",
     "text": [
      "\n"
     ]
    },
    {
     "data": {
      "application/vnd.jupyter.widget-view+json": {
       "model_id": "e98004315e8f485ab11b8e69f603dbb7",
       "version_major": 2,
       "version_minor": 0
      },
      "text/plain": [
       "HBox(children=(IntProgress(value=0, max=627), HTML(value='')))"
      ]
     },
     "metadata": {},
     "output_type": "display_data"
    },
    {
     "name": "stdout",
     "output_type": "stream",
     "text": [
      "\n"
     ]
    },
    {
     "data": {
      "application/vnd.jupyter.widget-view+json": {
       "model_id": "3748348f7d554e5d8203b7728e033398",
       "version_major": 2,
       "version_minor": 0
      },
      "text/plain": [
       "HBox(children=(IntProgress(value=0, max=156), HTML(value='')))"
      ]
     },
     "metadata": {},
     "output_type": "display_data"
    },
    {
     "name": "stderr",
     "output_type": "stream",
     "text": [
      "INFO:__main__:validation recall score: 90.76\n",
      "INFO:__main__:running epoch 16 of 75..\n"
     ]
    },
    {
     "name": "stdout",
     "output_type": "stream",
     "text": [
      "\n"
     ]
    },
    {
     "data": {
      "application/vnd.jupyter.widget-view+json": {
       "model_id": "2e57a4a9ca6f4ddf8655a35f458e4c1b",
       "version_major": 2,
       "version_minor": 0
      },
      "text/plain": [
       "HBox(children=(IntProgress(value=0, max=627), HTML(value='')))"
      ]
     },
     "metadata": {},
     "output_type": "display_data"
    },
    {
     "name": "stdout",
     "output_type": "stream",
     "text": [
      "\n"
     ]
    },
    {
     "data": {
      "application/vnd.jupyter.widget-view+json": {
       "model_id": "2910fb98e6ef448d87eddb41f61e787a",
       "version_major": 2,
       "version_minor": 0
      },
      "text/plain": [
       "HBox(children=(IntProgress(value=0, max=156), HTML(value='')))"
      ]
     },
     "metadata": {},
     "output_type": "display_data"
    },
    {
     "name": "stderr",
     "output_type": "stream",
     "text": [
      "INFO:__main__:validation recall score: 90.59\n",
      "INFO:__main__:running epoch 17 of 75..\n"
     ]
    },
    {
     "name": "stdout",
     "output_type": "stream",
     "text": [
      "\n"
     ]
    },
    {
     "data": {
      "application/vnd.jupyter.widget-view+json": {
       "model_id": "9a51018a348c46dbb4989dc36897e870",
       "version_major": 2,
       "version_minor": 0
      },
      "text/plain": [
       "HBox(children=(IntProgress(value=0, max=627), HTML(value='')))"
      ]
     },
     "metadata": {},
     "output_type": "display_data"
    },
    {
     "name": "stdout",
     "output_type": "stream",
     "text": [
      "\n"
     ]
    },
    {
     "data": {
      "application/vnd.jupyter.widget-view+json": {
       "model_id": "9e68874201ab454b90524ba7503a547f",
       "version_major": 2,
       "version_minor": 0
      },
      "text/plain": [
       "HBox(children=(IntProgress(value=0, max=156), HTML(value='')))"
      ]
     },
     "metadata": {},
     "output_type": "display_data"
    },
    {
     "name": "stderr",
     "output_type": "stream",
     "text": [
      "INFO:__main__:validation recall score: 90.08\n",
      "INFO:__main__:running epoch 18 of 75..\n"
     ]
    },
    {
     "name": "stdout",
     "output_type": "stream",
     "text": [
      "\n"
     ]
    },
    {
     "data": {
      "application/vnd.jupyter.widget-view+json": {
       "model_id": "d7a092b39576485791f6a2c45cbcad1c",
       "version_major": 2,
       "version_minor": 0
      },
      "text/plain": [
       "HBox(children=(IntProgress(value=0, max=627), HTML(value='')))"
      ]
     },
     "metadata": {},
     "output_type": "display_data"
    },
    {
     "name": "stdout",
     "output_type": "stream",
     "text": [
      "\n"
     ]
    },
    {
     "data": {
      "application/vnd.jupyter.widget-view+json": {
       "model_id": "081d656b09c8444e821fd6cd97d0fd6d",
       "version_major": 2,
       "version_minor": 0
      },
      "text/plain": [
       "HBox(children=(IntProgress(value=0, max=156), HTML(value='')))"
      ]
     },
     "metadata": {},
     "output_type": "display_data"
    },
    {
     "name": "stderr",
     "output_type": "stream",
     "text": [
      "INFO:__main__:validation recall score: 90.94\n",
      "INFO:__main__:running epoch 19 of 75..\n"
     ]
    },
    {
     "name": "stdout",
     "output_type": "stream",
     "text": [
      "\n"
     ]
    },
    {
     "data": {
      "application/vnd.jupyter.widget-view+json": {
       "model_id": "412df8e67dc94066a4b25233bbb3c657",
       "version_major": 2,
       "version_minor": 0
      },
      "text/plain": [
       "HBox(children=(IntProgress(value=0, max=627), HTML(value='')))"
      ]
     },
     "metadata": {},
     "output_type": "display_data"
    },
    {
     "name": "stdout",
     "output_type": "stream",
     "text": [
      "\n"
     ]
    },
    {
     "data": {
      "application/vnd.jupyter.widget-view+json": {
       "model_id": "bbb3487365c54bdfb6e4a11b35472097",
       "version_major": 2,
       "version_minor": 0
      },
      "text/plain": [
       "HBox(children=(IntProgress(value=0, max=156), HTML(value='')))"
      ]
     },
     "metadata": {},
     "output_type": "display_data"
    },
    {
     "name": "stderr",
     "output_type": "stream",
     "text": [
      "INFO:__main__:validation recall score: 90.85\n",
      "INFO:__main__:running epoch 20 of 75..\n"
     ]
    },
    {
     "name": "stdout",
     "output_type": "stream",
     "text": [
      "\n"
     ]
    },
    {
     "data": {
      "application/vnd.jupyter.widget-view+json": {
       "model_id": "4b1fe6de00864669bc340e0c90ab7d94",
       "version_major": 2,
       "version_minor": 0
      },
      "text/plain": [
       "HBox(children=(IntProgress(value=0, max=627), HTML(value='')))"
      ]
     },
     "metadata": {},
     "output_type": "display_data"
    },
    {
     "name": "stdout",
     "output_type": "stream",
     "text": [
      "\n"
     ]
    },
    {
     "data": {
      "application/vnd.jupyter.widget-view+json": {
       "model_id": "f47cbb3bfb9244e8b68311cec2aad4d0",
       "version_major": 2,
       "version_minor": 0
      },
      "text/plain": [
       "HBox(children=(IntProgress(value=0, max=156), HTML(value='')))"
      ]
     },
     "metadata": {},
     "output_type": "display_data"
    },
    {
     "name": "stderr",
     "output_type": "stream",
     "text": [
      "INFO:__main__:validation recall score: 90.8\n",
      "INFO:__main__:running epoch 21 of 75..\n"
     ]
    },
    {
     "name": "stdout",
     "output_type": "stream",
     "text": [
      "\n"
     ]
    },
    {
     "data": {
      "application/vnd.jupyter.widget-view+json": {
       "model_id": "276592dadf7741ac9477c147adfc9fb6",
       "version_major": 2,
       "version_minor": 0
      },
      "text/plain": [
       "HBox(children=(IntProgress(value=0, max=627), HTML(value='')))"
      ]
     },
     "metadata": {},
     "output_type": "display_data"
    },
    {
     "name": "stdout",
     "output_type": "stream",
     "text": [
      "\n"
     ]
    },
    {
     "data": {
      "application/vnd.jupyter.widget-view+json": {
       "model_id": "d6ad1791f3fc48ea898b9c9f6a17b699",
       "version_major": 2,
       "version_minor": 0
      },
      "text/plain": [
       "HBox(children=(IntProgress(value=0, max=156), HTML(value='')))"
      ]
     },
     "metadata": {},
     "output_type": "display_data"
    },
    {
     "name": "stderr",
     "output_type": "stream",
     "text": [
      "INFO:__main__:validation recall score: 90.52\n",
      "INFO:__main__:running epoch 22 of 75..\n"
     ]
    },
    {
     "name": "stdout",
     "output_type": "stream",
     "text": [
      "\n"
     ]
    },
    {
     "data": {
      "application/vnd.jupyter.widget-view+json": {
       "model_id": "c8952c4131d1430f9f00bed79b670202",
       "version_major": 2,
       "version_minor": 0
      },
      "text/plain": [
       "HBox(children=(IntProgress(value=0, max=627), HTML(value='')))"
      ]
     },
     "metadata": {},
     "output_type": "display_data"
    },
    {
     "name": "stdout",
     "output_type": "stream",
     "text": [
      "\n"
     ]
    },
    {
     "data": {
      "application/vnd.jupyter.widget-view+json": {
       "model_id": "8c6ca3dc6d0c449a949e830c98b2775e",
       "version_major": 2,
       "version_minor": 0
      },
      "text/plain": [
       "HBox(children=(IntProgress(value=0, max=156), HTML(value='')))"
      ]
     },
     "metadata": {},
     "output_type": "display_data"
    },
    {
     "name": "stderr",
     "output_type": "stream",
     "text": [
      "INFO:__main__:validation recall score: 90.92\n",
      "INFO:__main__:running epoch 23 of 75..\n"
     ]
    },
    {
     "name": "stdout",
     "output_type": "stream",
     "text": [
      "\n"
     ]
    },
    {
     "data": {
      "application/vnd.jupyter.widget-view+json": {
       "model_id": "597796d63ba949f58a13c07742675465",
       "version_major": 2,
       "version_minor": 0
      },
      "text/plain": [
       "HBox(children=(IntProgress(value=0, max=627), HTML(value='')))"
      ]
     },
     "metadata": {},
     "output_type": "display_data"
    },
    {
     "name": "stdout",
     "output_type": "stream",
     "text": [
      "\n"
     ]
    },
    {
     "data": {
      "application/vnd.jupyter.widget-view+json": {
       "model_id": "d85d9c87073942e6a5d4239fee6bf6ae",
       "version_major": 2,
       "version_minor": 0
      },
      "text/plain": [
       "HBox(children=(IntProgress(value=0, max=156), HTML(value='')))"
      ]
     },
     "metadata": {},
     "output_type": "display_data"
    },
    {
     "name": "stderr",
     "output_type": "stream",
     "text": [
      "INFO:__main__:validation recall score: 91.01\n",
      "INFO:__main__:running epoch 24 of 75..\n"
     ]
    },
    {
     "name": "stdout",
     "output_type": "stream",
     "text": [
      "\n"
     ]
    },
    {
     "data": {
      "application/vnd.jupyter.widget-view+json": {
       "model_id": "87e7a0a180524e1480feb9827bae686c",
       "version_major": 2,
       "version_minor": 0
      },
      "text/plain": [
       "HBox(children=(IntProgress(value=0, max=627), HTML(value='')))"
      ]
     },
     "metadata": {},
     "output_type": "display_data"
    },
    {
     "name": "stdout",
     "output_type": "stream",
     "text": [
      "\n"
     ]
    },
    {
     "data": {
      "application/vnd.jupyter.widget-view+json": {
       "model_id": "83e8c5b27a424f888c1f3f7730d0ac0d",
       "version_major": 2,
       "version_minor": 0
      },
      "text/plain": [
       "HBox(children=(IntProgress(value=0, max=156), HTML(value='')))"
      ]
     },
     "metadata": {},
     "output_type": "display_data"
    },
    {
     "name": "stderr",
     "output_type": "stream",
     "text": [
      "INFO:__main__:validation recall score: 91.27\n",
      "INFO:__main__:running epoch 25 of 75..\n"
     ]
    },
    {
     "name": "stdout",
     "output_type": "stream",
     "text": [
      "\n"
     ]
    },
    {
     "data": {
      "application/vnd.jupyter.widget-view+json": {
       "model_id": "aa1b50a83f83413e9cca645519b08f50",
       "version_major": 2,
       "version_minor": 0
      },
      "text/plain": [
       "HBox(children=(IntProgress(value=0, max=627), HTML(value='')))"
      ]
     },
     "metadata": {},
     "output_type": "display_data"
    },
    {
     "name": "stdout",
     "output_type": "stream",
     "text": [
      "\n"
     ]
    },
    {
     "data": {
      "application/vnd.jupyter.widget-view+json": {
       "model_id": "f186cf3c23b24484a7c8dc0109bc6436",
       "version_major": 2,
       "version_minor": 0
      },
      "text/plain": [
       "HBox(children=(IntProgress(value=0, max=156), HTML(value='')))"
      ]
     },
     "metadata": {},
     "output_type": "display_data"
    },
    {
     "name": "stderr",
     "output_type": "stream",
     "text": [
      "INFO:__main__:validation recall score: 91.12\n",
      "INFO:__main__:running epoch 26 of 75..\n"
     ]
    },
    {
     "name": "stdout",
     "output_type": "stream",
     "text": [
      "\n"
     ]
    },
    {
     "data": {
      "application/vnd.jupyter.widget-view+json": {
       "model_id": "13f8cdac9c6642fdbaef1e6fb56453f1",
       "version_major": 2,
       "version_minor": 0
      },
      "text/plain": [
       "HBox(children=(IntProgress(value=0, max=627), HTML(value='')))"
      ]
     },
     "metadata": {},
     "output_type": "display_data"
    },
    {
     "name": "stdout",
     "output_type": "stream",
     "text": [
      "\n"
     ]
    },
    {
     "data": {
      "application/vnd.jupyter.widget-view+json": {
       "model_id": "2b4d30ef30dc497a8f51ac3c0b10837d",
       "version_major": 2,
       "version_minor": 0
      },
      "text/plain": [
       "HBox(children=(IntProgress(value=0, max=156), HTML(value='')))"
      ]
     },
     "metadata": {},
     "output_type": "display_data"
    },
    {
     "name": "stderr",
     "output_type": "stream",
     "text": [
      "INFO:__main__:validation recall score: 91.71\n",
      "INFO:__main__:running epoch 27 of 75..\n"
     ]
    },
    {
     "name": "stdout",
     "output_type": "stream",
     "text": [
      "\n"
     ]
    },
    {
     "data": {
      "application/vnd.jupyter.widget-view+json": {
       "model_id": "522273c7fff94ae8a5b53eb652be28b8",
       "version_major": 2,
       "version_minor": 0
      },
      "text/plain": [
       "HBox(children=(IntProgress(value=0, max=627), HTML(value='')))"
      ]
     },
     "metadata": {},
     "output_type": "display_data"
    }
   ],
   "source": [
    "fitx1(model, train_dataset, train_dataloader, valid_dataset, valid_dataloader, optimizer, scheduler, \"grapheme_root\",\n",
    "      epochs)"
   ]
  },
  {
   "cell_type": "code",
   "execution_count": null,
   "metadata": {
    "hidden": true
   },
   "outputs": [],
   "source": [
    "val_loss, val_score = evaluatex1(valid_dataset, valid_dataloader, model, component='grapheme_root')\n",
    "logger.info(f\"validation recall score: {val_score}\")"
   ]
  }
 ],
 "metadata": {
  "kernelspec": {
   "display_name": "Python 3",
   "language": "python",
   "name": "python3"
  },
  "language_info": {
   "codemirror_mode": {
    "name": "ipython",
    "version": 3
   },
   "file_extension": ".py",
   "mimetype": "text/x-python",
   "name": "python",
   "nbconvert_exporter": "python",
   "pygments_lexer": "ipython3",
   "version": "3.7.4"
  },
  "toc": {
   "base_numbering": 1,
   "nav_menu": {},
   "number_sections": true,
   "sideBar": true,
   "skip_h1_title": false,
   "title_cell": "Table of Contents",
   "title_sidebar": "Contents",
   "toc_cell": false,
   "toc_position": {
    "height": "calc(100% - 180px)",
    "left": "10px",
    "top": "150px",
    "width": "165px"
   },
   "toc_section_display": true,
   "toc_window_display": false
  }
 },
 "nbformat": 4,
 "nbformat_minor": 2
}
