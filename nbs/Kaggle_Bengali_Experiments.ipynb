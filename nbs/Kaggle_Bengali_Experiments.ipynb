{
 "cells": [
  {
   "cell_type": "markdown",
   "metadata": {},
   "source": [
    "Need to add `Tensorboard` to my experiments."
   ]
  },
  {
   "cell_type": "code",
   "execution_count": 1,
   "metadata": {},
   "outputs": [],
   "source": [
    "import sys\n",
    "import os \n",
    "import ast\n",
    "import torch\n",
    "import joblib\n",
    "import numpy as np\n",
    "import pandas as pd\n",
    "from PIL import Image\n",
    "import albumentations\n",
    "from tqdm import tqdm\n",
    "import torch.nn as nn\n",
    "from pathlib import Path\n",
    "from pdb import set_trace\n",
    "from matplotlib import pyplot as plt\n",
    "import torchvision.models as models\n",
    "from torch.nn import functional as F\n",
    "from sklearn.metrics import recall_score\n",
    "import pretrainedmodels\n",
    "import logging \n",
    "logging.basicConfig(level=logging.INFO)\n",
    "logger = logging.getLogger(__name__)\n",
    "\n",
    "sys.path.append(\"../src\")"
   ]
  },
  {
   "cell_type": "code",
   "execution_count": 2,
   "metadata": {},
   "outputs": [],
   "source": [
    "from torch.utils.tensorboard import SummaryWriter"
   ]
  },
  {
   "cell_type": "code",
   "execution_count": 3,
   "metadata": {},
   "outputs": [],
   "source": [
    "# writer = SummaryWriter()"
   ]
  },
  {
   "cell_type": "code",
   "execution_count": 4,
   "metadata": {},
   "outputs": [
    {
     "data": {
      "text/plain": [
       "True"
      ]
     },
     "execution_count": 4,
     "metadata": {},
     "output_type": "execute_result"
    }
   ],
   "source": [
    "torch.cuda.is_available()"
   ]
  },
  {
   "cell_type": "code",
   "execution_count": 5,
   "metadata": {},
   "outputs": [
    {
     "name": "stdout",
     "output_type": "stream",
     "text": [
      "Sat Mar  7 00:30:46 2020       \r\n",
      "+-----------------------------------------------------------------------------+\r\n",
      "| NVIDIA-SMI 440.33.01    Driver Version: 440.33.01    CUDA Version: 10.2     |\r\n",
      "|-------------------------------+----------------------+----------------------+\r\n",
      "| GPU  Name        Persistence-M| Bus-Id        Disp.A | Volatile Uncorr. ECC |\r\n",
      "| Fan  Temp  Perf  Pwr:Usage/Cap|         Memory-Usage | GPU-Util  Compute M. |\r\n",
      "|===============================+======================+======================|\r\n",
      "|   0  Tesla T4            On   | 00000000:00:1E.0 Off |                    0 |\r\n",
      "| N/A   51C    P8    12W /  70W |     11MiB / 15109MiB |      0%      Default |\r\n",
      "+-------------------------------+----------------------+----------------------+\r\n",
      "                                                                               \r\n",
      "+-----------------------------------------------------------------------------+\r\n",
      "| Processes:                                                       GPU Memory |\r\n",
      "|  GPU       PID   Type   Process name                             Usage      |\r\n",
      "|=============================================================================|\r\n",
      "|  No running processes found                                                 |\r\n",
      "+-----------------------------------------------------------------------------+\r\n"
     ]
    }
   ],
   "source": [
    "!nvidia-smi"
   ]
  },
  {
   "cell_type": "markdown",
   "metadata": {},
   "source": [
    "## DataSet"
   ]
  },
  {
   "cell_type": "code",
   "execution_count": 6,
   "metadata": {
    "scrolled": true
   },
   "outputs": [
    {
     "data": {
      "text/html": [
       "<div>\n",
       "<style scoped>\n",
       "    .dataframe tbody tr th:only-of-type {\n",
       "        vertical-align: middle;\n",
       "    }\n",
       "\n",
       "    .dataframe tbody tr th {\n",
       "        vertical-align: top;\n",
       "    }\n",
       "\n",
       "    .dataframe thead th {\n",
       "        text-align: right;\n",
       "    }\n",
       "</style>\n",
       "<table border=\"1\" class=\"dataframe\">\n",
       "  <thead>\n",
       "    <tr style=\"text-align: right;\">\n",
       "      <th></th>\n",
       "      <th>image_id</th>\n",
       "      <th>grapheme_root</th>\n",
       "      <th>vowel_diacritic</th>\n",
       "      <th>consonant_diacritic</th>\n",
       "      <th>grapheme</th>\n",
       "      <th>kfold</th>\n",
       "    </tr>\n",
       "  </thead>\n",
       "  <tbody>\n",
       "    <tr>\n",
       "      <td>0</td>\n",
       "      <td>Train_84143</td>\n",
       "      <td>99</td>\n",
       "      <td>1</td>\n",
       "      <td>0</td>\n",
       "      <td>প্না</td>\n",
       "      <td>1</td>\n",
       "    </tr>\n",
       "    <tr>\n",
       "      <td>1</td>\n",
       "      <td>Train_72913</td>\n",
       "      <td>148</td>\n",
       "      <td>2</td>\n",
       "      <td>0</td>\n",
       "      <td>স্কি</td>\n",
       "      <td>1</td>\n",
       "    </tr>\n",
       "    <tr>\n",
       "      <td>2</td>\n",
       "      <td>Train_46642</td>\n",
       "      <td>38</td>\n",
       "      <td>7</td>\n",
       "      <td>2</td>\n",
       "      <td>র্চে</td>\n",
       "      <td>3</td>\n",
       "    </tr>\n",
       "    <tr>\n",
       "      <td>3</td>\n",
       "      <td>Train_26255</td>\n",
       "      <td>68</td>\n",
       "      <td>0</td>\n",
       "      <td>0</td>\n",
       "      <td>ত্ন</td>\n",
       "      <td>2</td>\n",
       "    </tr>\n",
       "    <tr>\n",
       "      <td>4</td>\n",
       "      <td>Train_21993</td>\n",
       "      <td>83</td>\n",
       "      <td>0</td>\n",
       "      <td>0</td>\n",
       "      <td>ন্ট</td>\n",
       "      <td>2</td>\n",
       "    </tr>\n",
       "  </tbody>\n",
       "</table>\n",
       "</div>"
      ],
      "text/plain": [
       "      image_id  grapheme_root  vowel_diacritic  consonant_diacritic grapheme  \\\n",
       "0  Train_84143             99                1                    0     প্না   \n",
       "1  Train_72913            148                2                    0     স্কি   \n",
       "2  Train_46642             38                7                    2     র্চে   \n",
       "3  Train_26255             68                0                    0      ত্ন   \n",
       "4  Train_21993             83                0                    0      ন্ট   \n",
       "\n",
       "   kfold  \n",
       "0      1  \n",
       "1      1  \n",
       "2      3  \n",
       "3      2  \n",
       "4      2  "
      ]
     },
     "execution_count": 6,
     "metadata": {},
     "output_type": "execute_result"
    }
   ],
   "source": [
    "data_path = Path(\"../data\")\n",
    "df = pd.read_csv(data_path/'train_folds.csv')\n",
    "df.head()"
   ]
  },
  {
   "cell_type": "code",
   "execution_count": 7,
   "metadata": {},
   "outputs": [],
   "source": [
    "class BengaliDataset():\n",
    "    def __init__(self, folds, data_path=\"../data\", height=137, width=236, random_state=123, subset=False, _df=None):\n",
    "        data_path = Path(data_path)\n",
    "        df = pd.read_csv(data_path/'train_folds.csv')\n",
    "        \n",
    "        if subset: df = _df\n",
    "        \n",
    "        df = df[['image_id', 'grapheme_root', 'vowel_diacritic', 'consonant_diacritic', 'kfold']]\n",
    "        df = df[df.kfold.isin(folds)].reset_index(drop=True)\n",
    "                \n",
    "        self.df = df\n",
    "        self.data_path=data_path\n",
    "        self.img_ids = df['image_id'].values\n",
    "        self.grapheme_root = df['grapheme_root'].values\n",
    "        self.vowel_diacritic = df['vowel_diacritic'].values\n",
    "        self.consonant_diacritic = df['consonant_diacritic'].values\n",
    "        self.h = height\n",
    "        self.w = width\n",
    "        \n",
    "        if len(folds) == 1: \n",
    "            self.aug = albumentations.Compose([\n",
    "                albumentations.Resize(self.h, self.w, always_apply=True), \n",
    "                albumentations.Normalize(always_apply=True) #uses imagenette stats by default\n",
    "            ])\n",
    "        else:\n",
    "            self.aug = albumentations.Compose([\n",
    "                albumentations.Resize(self.h, self.w, always_apply=True),\n",
    "                albumentations.Normalize(always_apply=True) #uses imagenette stats by default\n",
    "            ])\n",
    "            \n",
    "    def __len__(self):\n",
    "        return len(self.img_ids)\n",
    "    \n",
    "    def __getitem__(self, idx):\n",
    "        image = joblib.load(f\"{self.data_path}/image_pickles/{self.img_ids[idx]}.pkl\")\n",
    "        image = image.reshape(self.h, self.w).astype(float)\n",
    "        image = Image.fromarray(image).convert(\"RGB\")\n",
    "        image = self.aug(image=np.array(image))['image']\n",
    "        image = np.transpose(image, (2, 0, 1)).astype(np.float32)\n",
    "        return {\n",
    "            'image': torch.tensor(image, dtype=torch.float),\n",
    "            'grapheme_root': torch.tensor(self.grapheme_root[idx], dtype=torch.long), \n",
    "            'vowel_diacritic': torch.tensor(self.vowel_diacritic[idx], dtype=torch.long), \n",
    "            'consonant_diacritic': torch.tensor(self.consonant_diacritic[idx], dtype=torch.long), \n",
    "        }\n",
    "    \n",
    "    def show_image(self, idx, ax):\n",
    "        image = joblib.load(f\"{self.data_path}/image_pickles/{self.img_ids[idx]}.pkl\")\n",
    "        image = image.reshape(self.h, self.w).astype(float)\n",
    "        image = Image.fromarray(image).convert(\"RGB\")\n",
    "        image = self.aug(image=np.array(image))['image']\n",
    "        image = np.transpose(image, (2, 0, 1)).astype(np.float32)\n",
    "        ax.imshow(np.transpose(image, [1, 2, 0]))\n",
    "        \n",
    "    def show_batch(self, num_batch=3, seed=1):\n",
    "        np.random.seed(seed)\n",
    "        cols = num_batch // 3 if num_batch > 3 else num_batch\n",
    "        fig, ax = plt.subplots(cols,3, figsize=(10,10))\n",
    "        for j in range(cols):\n",
    "            for i in range(3):\n",
    "                idx   = np.random.choice(len(self.img_ids))\n",
    "                self.show_image(idx, ax[j][i])"
   ]
  },
  {
   "cell_type": "code",
   "execution_count": 8,
   "metadata": {},
   "outputs": [
    {
     "name": "stdout",
     "output_type": "stream",
     "text": [
      "train folds: [2 1 4 0], val fold: [3]\n"
     ]
    },
    {
     "data": {
      "text/plain": [
       "160672"
      ]
     },
     "execution_count": 8,
     "metadata": {},
     "output_type": "execute_result"
    }
   ],
   "source": [
    "np.random.seed(1)\n",
    "folds   = np.random.permutation(5)\n",
    "trn_fld = folds[:4]\n",
    "val_fld = folds[4:]\n",
    "print(f\"train folds: {trn_fld}, val fold: {val_fld}\")\n",
    "\n",
    "dataset = BengaliDataset(folds=trn_fld)\n",
    "len(dataset)"
   ]
  },
  {
   "cell_type": "code",
   "execution_count": 9,
   "metadata": {},
   "outputs": [
    {
     "name": "stderr",
     "output_type": "stream",
     "text": [
      "WARNING:matplotlib.image:Clipping input data to the valid range for imshow with RGB data ([0..1] for floats or [0..255] for integers).\n",
      "WARNING:matplotlib.image:Clipping input data to the valid range for imshow with RGB data ([0..1] for floats or [0..255] for integers).\n",
      "WARNING:matplotlib.image:Clipping input data to the valid range for imshow with RGB data ([0..1] for floats or [0..255] for integers).\n",
      "WARNING:matplotlib.image:Clipping input data to the valid range for imshow with RGB data ([0..1] for floats or [0..255] for integers).\n",
      "WARNING:matplotlib.image:Clipping input data to the valid range for imshow with RGB data ([0..1] for floats or [0..255] for integers).\n",
      "WARNING:matplotlib.image:Clipping input data to the valid range for imshow with RGB data ([0..1] for floats or [0..255] for integers).\n"
     ]
    },
    {
     "data": {
      "image/png": "[encoded data removed]",
      "text/plain": [
       "<Figure size 720x720 with 6 Axes>"
      ]
     },
     "metadata": {
      "needs_background": "light"
     },
     "output_type": "display_data"
    }
   ],
   "source": [
    "dataset.show_batch(num_batch=6);"
   ]
  },
  {
   "cell_type": "markdown",
   "metadata": {},
   "source": [
    "## Model"
   ]
  },
  {
   "cell_type": "code",
   "execution_count": 10,
   "metadata": {},
   "outputs": [],
   "source": [
    "class LinearHeadx1(nn.Module):\n",
    "    def __init__(self, n_in, n_out, n_mid=None, bias=True):\n",
    "        super(LinearHeadx1, self).__init__()\n",
    "        if n_mid:\n",
    "            self.li = nn.Linear(n_in, n_mid, bias=bias)\n",
    "            self.relu = F.relu\n",
    "        self.n_mid = n_mid\n",
    "        self.lf = nn.Linear(n_in if not n_mid else n_mid, n_out, bias=bias) \n",
    "\n",
    "    def forward(self, x):\n",
    "        return self.lf(x) if not self.n_mid else self.lf(F.relu(self.li(x)))"
   ]
  },
  {
   "cell_type": "code",
   "execution_count": 11,
   "metadata": {},
   "outputs": [],
   "source": [
    "class LinearHeadx3(nn.Module):\n",
    "    def __init__(self, n_in, n_mid=None):\n",
    "        super(LinearHeadx3, self).__init__()\n",
    "        self.l0 = LinearHeadx1(n_in, 168, n_mid)\n",
    "        self.l1 = LinearHeadx1(n_in, 11, n_mid)\n",
    "        self.l2 = LinearHeadx1(n_in, 7, n_mid)\n",
    "\n",
    "    def forward(self, x):\n",
    "        l0 = self.l0(x)  \n",
    "        l1 = self.l1(x)\n",
    "        l2 = self.l2(x)\n",
    "        return l0, l1, l2"
   ]
  },
  {
   "cell_type": "code",
   "execution_count": 12,
   "metadata": {},
   "outputs": [],
   "source": [
    "class Resnet34(nn.Module):\n",
    "    \"Create resnet 34 with custom_head; returns 3 outputs if nf=3 else 1 output; adds relu to custom_head if n_mid\"\n",
    "    def __init__(self, n_in, n_out=None, n_mid=None, nf=3, pretrained=False):\n",
    "        super(Resnet34, self).__init__()\n",
    "        model = models.resnet34(pretrained)\n",
    "        features = nn.Sequential(\n",
    "            *list(model.children())[:-2]\n",
    "            )\n",
    "        # group in initial, middle and later for discriminative learning rate\n",
    "        self.initial_layers = features[:4]\n",
    "        self.middle_layers  = features[4:7]\n",
    "        self.later_layers   = features[7:]\n",
    "        self.custom_head    = LinearHeadx3(n_in, n_mid) if nf==3 else LinearHeadx1(n_in, n_out, n_mid)\n",
    "        \n",
    "    def forward(self, x):\n",
    "        bs, _, _, _ = x.shape\n",
    "        x  = self.initial_layers(x)\n",
    "        x  = self.middle_layers(x)\n",
    "        x  = self.later_layers(x)\n",
    "        x  = F.adaptive_avg_pool2d(x, 1).reshape(bs, -1)\n",
    "        return self.custom_head(x)"
   ]
  },
  {
   "cell_type": "code",
   "execution_count": 13,
   "metadata": {},
   "outputs": [],
   "source": [
    "class SE_Resnext50(nn.Module):\n",
    "    def __init__(self, n_in, n_out=None, n_mid=None, pretrained=True, nf=3):\n",
    "        super(SE_Resnext50, self).__init__()\n",
    "        model  = pretrainedmodels.__dict__['se_resnext50_32x4d'](num_classes=1000, pretrained='imagenet' if pretrained else None)     \n",
    "        features = nn.Sequential(\n",
    "            *list(model.children())[:-2]\n",
    "            )\n",
    "        self.initial_layers = features[:2]\n",
    "        self.middle_layers  = features[2]\n",
    "        self.later_layers   = features[3:]\n",
    "        self.custom_head    = LinearHeadx3(n_in, n_mid) if nf==3 else LinearHeadx1(n_in, n_out, n_mid)\n",
    "        \n",
    "    def forward(self, x):\n",
    "        bs, _, _, _ = x.shape\n",
    "        x  = self.initial_layers(x)\n",
    "        x  = self.middle_layers(x)\n",
    "        x  = self.later_layers(x)\n",
    "        x  = F.adaptive_avg_pool2d(x, 1).reshape(bs, -1)\n",
    "        return self.custom_head(x)        "
   ]
  },
  {
   "cell_type": "code",
   "execution_count": 14,
   "metadata": {},
   "outputs": [],
   "source": [
    "class EfficientNetB4(nn.Module):\n",
    "    \"Create resnet 34 with custom_head; returns 3 outputs if nf=3 else 1 output; adds relu to custom_head if n_mid\"\n",
    "    def __init__(self, n_in, n_out=None, n_mid=None, nf=3, pretrained=False):\n",
    "        super(EfficientNetB4, self).__init__()\n",
    "        model = EfficientNet.from_pretrained('efficientnet-b4')\n",
    "        features = nn.Sequential(\n",
    "        \n",
    "            *list(model.children())[:-2]\n",
    "            )\n",
    "        # group in initial, middle and later for discriminative learning rate\n",
    "        \n",
    "        self.initial_layers = features[:2]\n",
    "        self.middle_layers  = features[2:6]\n",
    "        self.later_layers   = features[6:]\n",
    "        self.custom_head    = LinearHeadx3(n_in, n_mid) if nf==3 else LinearHeadx1(n_in, n_out, n_mid)\n",
    "        \n",
    "    def forward(self, x):\n",
    "        bs, _, _, _ = x.shape\n",
    "        x  = self.initial_layers(x)\n",
    "        x  = self.middle_layers(x)\n",
    "        x  = self.later_layers(x)\n",
    "        return self.custom_head(x)"
   ]
  },
  {
   "cell_type": "code",
   "execution_count": 15,
   "metadata": {},
   "outputs": [],
   "source": [
    "MODEL_DISPATCHER = {\n",
    "    'resnet34': Resnet34, \n",
    "    'se_resnext50': SE_Resnext50, \n",
    "    'efficientnetb4': EfficientNetB4\n",
    "}"
   ]
  },
  {
   "cell_type": "markdown",
   "metadata": {},
   "source": [
    "## Train & Validate"
   ]
  },
  {
   "cell_type": "markdown",
   "metadata": {},
   "source": [
    "Initializing model with pretrained weights : Resnet101"
   ]
  },
  {
   "cell_type": "code",
   "execution_count": 16,
   "metadata": {},
   "outputs": [],
   "source": [
    "def ifnone(a, b):\n",
    "    return a if b is None else b"
   ]
  },
  {
   "cell_type": "code",
   "execution_count": 17,
   "metadata": {},
   "outputs": [],
   "source": [
    "def get_ds_dl(Dataset, trn_fld=trn_fld, val_fld=val_fld, train_dataset=None, \n",
    "              train_dataloader=None, valid_dataset=None, valid_dataloader=None, \n",
    "              bs=256, subset=True, _df=None):\n",
    "    logger.info(f\"Train folds: {trn_fld}, validation fold: {val_fld}\")\n",
    "    train_dataset = ifnone(Dataset(folds=trn_fld, subset=subset, _df=df), train_dataset)\n",
    "    train_dataloader = ifnone(torch.utils.data.DataLoader(train_dataset, batch_size=bs, shuffle=False, \n",
    "                                                   num_workers=4), train_dataloader)\n",
    "    \n",
    "    valid_dataset = ifnone(Dataset(folds=[val_fld], subset=subset, _df=df), valid_dataset)\n",
    "    valid_dataloader = ifnone(torch.utils.data.DataLoader(valid_dataset, batch_size=bs, shuffle=True, num_workers=4), \n",
    "                              valid_dataloader)\n",
    "    return train_dataset, train_dataloader, valid_dataset, valid_dataloader"
   ]
  },
  {
   "cell_type": "code",
   "execution_count": 18,
   "metadata": {},
   "outputs": [],
   "source": [
    "def loss_func_x1(outputs, targets):\n",
    "    return nn.CrossEntropyLoss()(outputs, targets)"
   ]
  },
  {
   "cell_type": "code",
   "execution_count": 19,
   "metadata": {},
   "outputs": [],
   "source": [
    "def loss_func_x3(outputs, targets, weighted=True):\n",
    "    \"return weighted loss if needed\"\n",
    "    grapheme_root, vowel_diacritic, consonant_diacritic = outputs\n",
    "    grapheme_root_, vowel_diacritic_, consonant_diacritic_ = targets \n",
    "    l1 = loss_func_x1(grapheme_root, grapheme_root_)\n",
    "    l2 = loss_func_x1(vowel_diacritic, vowel_diacritic_)\n",
    "    l3 = loss_func_x1(consonant_diacritic, consonant_diacritic_)\n",
    "    return ((2*l1)+l2+l3)/3  if weighted else (l1+l2+l3)/3"
   ]
  },
  {
   "cell_type": "code",
   "execution_count": 20,
   "metadata": {},
   "outputs": [],
   "source": [
    "def recall_score_x1(outputs, targets):\n",
    "    outputs = outputs.detach().cpu().numpy().argmax(axis=1)\n",
    "    targets = targets.detach().cpu().numpy()\n",
    "    return np.round(recall_score(targets, outputs, average='macro'), 4)*100"
   ]
  },
  {
   "cell_type": "code",
   "execution_count": 21,
   "metadata": {},
   "outputs": [],
   "source": [
    "def recall_loss_x3(outputs, targets, ret_scores=True):\n",
    "    \"calculates weighted kaggle metric during validation\"\n",
    "    grapheme_root, vowel_diacritic, consonant_diacritic = outputs\n",
    "    grapheme_root_, vowel_diacritic_, consonant_diacritic_ = targets \n",
    "    s1 = recall_score_x1(grapheme_root, grapheme_root_)\n",
    "    s2 = recall_score_x1(vowel_diacritic, vowel_diacritic_)\n",
    "    s3 = recall_score_x1(consonant_diacritic, consonant_diacritic_)\n",
    "    scores = [s1, s2, s3]\n",
    "    weighted_score = np.average(scores, weights=[2,1,1])\n",
    "    return weighted_score, s1, s2, s3 if ret_scores else weighted_score"
   ]
  },
  {
   "cell_type": "code",
   "execution_count": 22,
   "metadata": {},
   "outputs": [],
   "source": [
    "def trainx1(dataset, data_loader, model, optimizer, scheduler, component, DEVICE='cuda'):\n",
    "    assert type(model.custom_head) == LinearHeadx1, \"make sure model returns only one output\"\n",
    "    model.train()\n",
    "    final_loss = 0\n",
    "    counter = 0\n",
    "    for bi, d in tqdm(enumerate(data_loader), total=int(len(dataset) / data_loader.batch_size)):\n",
    "        image = d['image']\n",
    "        y     = d[component]\n",
    "        image = image.to(DEVICE, dtype=torch.float)\n",
    "        y = y.to(DEVICE, dtype=torch.long)\n",
    "        optimizer.zero_grad()\n",
    "        outputs = model(image)\n",
    "        targets = y\n",
    "        loss = loss_func_x1(outputs, targets)\n",
    "        loss.backward()\n",
    "        optimizer.step()\n",
    "        scheduler.step()\n",
    "        final_loss += float(loss)\n",
    "        counter += 1\n",
    "    return final_loss/counter"
   ]
  },
  {
   "cell_type": "code",
   "execution_count": 23,
   "metadata": {},
   "outputs": [],
   "source": [
    "def trainx3(dataset, data_loader, model, optimizer, scheduler, DEVICE='cuda'):\n",
    "    assert type(model.custom_head) == LinearHeadx3, \"make sure model returns three outputs\"\n",
    "    model.train()\n",
    "    final_loss = 0\n",
    "    counter = 0\n",
    "    for bi, d in tqdm(enumerate(data_loader), total=int(len(dataset) / data_loader.batch_size)):\n",
    "        image = d['image']\n",
    "        grapheme_root = d['grapheme_root']\n",
    "        vowel_diacritic = d['vowel_diacritic']\n",
    "        consonant_diacritic = d['consonant_diacritic']\n",
    "\n",
    "        image = image.to(DEVICE, dtype=torch.float)\n",
    "        grapheme_root = grapheme_root.to(DEVICE, dtype=torch.long)\n",
    "        vowel_diacritic = vowel_diacritic.to(DEVICE, dtype=torch.long)\n",
    "        consonant_diacritic = consonant_diacritic.to(DEVICE, dtype=torch.long)\n",
    "\n",
    "        optimizer.zero_grad()\n",
    "        outputs = model(image)\n",
    "        targets = (grapheme_root, vowel_diacritic, consonant_diacritic)\n",
    "        loss = loss_func_x3(outputs, targets)\n",
    "        loss.backward()\n",
    "        optimizer.step()\n",
    "        scheduler.step()\n",
    "        final_loss += float(loss)\n",
    "        counter += 1\n",
    "    return final_loss/counter"
   ]
  },
  {
   "cell_type": "code",
   "execution_count": 24,
   "metadata": {},
   "outputs": [],
   "source": [
    "def evaluatex1(dataset, data_loader, model, component, DEVICE='cuda'):\n",
    "    model.eval()\n",
    "    final_loss, final_score, final_l1, final_l2, final_l3, counter = 0, 0, 0, 0, 0, 0\n",
    "    for bi, d in tqdm(enumerate(data_loader), total=int(len(dataset) / data_loader.batch_size)):\n",
    "        counter+=1\n",
    "        image = d['image']\n",
    "        y = d[component]\n",
    "\n",
    "        image = image.to(DEVICE, dtype=torch.float)\n",
    "        y = y.to(DEVICE, dtype=torch.long)\n",
    "\n",
    "        with torch.no_grad():\n",
    "            outputs = model(image)\n",
    "            targets = y \n",
    "            loss = loss_func_x1(outputs, targets)\n",
    "            final_loss += float(loss)\n",
    "            score = recall_score_x1(outputs, targets)\n",
    "            final_score += score\n",
    "    return np.round(final_loss/counter,2), np.round(final_score/counter,2)"
   ]
  },
  {
   "cell_type": "code",
   "execution_count": 25,
   "metadata": {},
   "outputs": [],
   "source": [
    "def evaluatex3(dataset, data_loader, model, DEVICE='cuda'):\n",
    "    model.eval()\n",
    "    final_loss, final_score, final_l1, final_l2, final_l3, counter = 0, 0, 0, 0, 0, 0\n",
    "    for bi, d in tqdm(enumerate(data_loader), total=int(len(dataset) / data_loader.batch_size)):\n",
    "        counter+=1\n",
    "        image = d['image']\n",
    "        grapheme_root = d['grapheme_root']\n",
    "        vowel_diacritic = d['vowel_diacritic']\n",
    "        consonant_diacritic = d['consonant_diacritic']\n",
    "\n",
    "        image = image.to(DEVICE, dtype=torch.float)\n",
    "        grapheme_root = grapheme_root.to(DEVICE, dtype=torch.long)\n",
    "        vowel_diacritic = vowel_diacritic.to(DEVICE, dtype=torch.long)\n",
    "        consonant_diacritic = consonant_diacritic.to(DEVICE, dtype=torch.long)\n",
    "\n",
    "        with torch.no_grad():\n",
    "            outputs = model(image)\n",
    "            targets = (grapheme_root, vowel_diacritic, consonant_diacritic)\n",
    "            loss = loss_func_x3(outputs, targets)\n",
    "            final_loss += float(loss)\n",
    "            score, l1, l2, l3 = recall_loss_x3(outputs, targets)\n",
    "            final_score += score\n",
    "            final_l1 += l1\n",
    "            final_l2 += l2\n",
    "            final_l3 += l2\n",
    "    return np.round(final_loss/counter,2), np.round(final_score/counter,2), np.round(final_l1/counter,2), np.round(final_l2/counter,2), np.round(final_l3/counter,2)"
   ]
  },
  {
   "cell_type": "markdown",
   "metadata": {},
   "source": [
    "## Re-init model"
   ]
  },
  {
   "cell_type": "code",
   "execution_count": 26,
   "metadata": {},
   "outputs": [],
   "source": [
    "def get_model(model=\"resnet34\", cuda=True, **model_kwargs):\n",
    "    model = MODEL_DISPATCHER[model](pretrained=True, **model_kwargs)\n",
    "    if cuda: model = model.to(\"cuda\")\n",
    "    return model"
   ]
  },
  {
   "cell_type": "code",
   "execution_count": 27,
   "metadata": {},
   "outputs": [],
   "source": [
    "def reinit(model, bs=256, epochs=5, Dataset=BengaliDataset, trn_fld=trn_fld, val_fld=val_fld, \n",
    "           learning_rate=1e-3, train_dataset=None, train_dataloader=None, valid_dataset=None, \n",
    "           valid_dataloader=None, subset=True, _df=None, **model_kwargs\n",
    "          ):\n",
    "    if model_kwargs: logger.info(f\"model_kwargs: {model_kwargs}\")  \n",
    "    model = get_model(model, **model_kwargs)\n",
    "    train_dataset, train_dataloader, valid_dataset, valid_dataloader = get_ds_dl(Dataset, trn_fld, val_fld, train_dataset, train_dataloader, valid_dataset, valid_dataloader, bs, subset, _df=df)\n",
    "    \n",
    "    optimizer = torch.optim.Adam([  \n",
    "        {'params': model.initial_layers.parameters(), 'lr': learning_rate/100},  \n",
    "        {'params': model.middle_layers.parameters(), 'lr': learning_rate/10},  \n",
    "        {'params': model.later_layers.parameters(), 'lr': learning_rate},  \n",
    "        {'params': model.custom_head.parameters(), 'lr': learning_rate},  \n",
    "    ], lr=learning_rate)\n",
    "    \n",
    "    scheduler = torch.optim.lr_scheduler.OneCycleLR(\n",
    "        optimizer, \n",
    "        steps_per_epoch=int(len(train_dataset)/train_dataloader.batch_size),\n",
    "        max_lr=learning_rate, \n",
    "        epochs=epochs\n",
    "    )\n",
    "    return model, train_dataset, train_dataloader, valid_dataset, valid_dataloader, optimizer, scheduler"
   ]
  },
  {
   "cell_type": "markdown",
   "metadata": {},
   "source": [
    "## Fit Function"
   ]
  },
  {
   "cell_type": "code",
   "execution_count": 28,
   "metadata": {},
   "outputs": [],
   "source": [
    "def fitx3(model, train_dataset, train_dataloader, valid_dataset, valid_dataloader, optimizer, scheduler, epochs = 10, DEVICE='cuda'):\n",
    "    for epoch in range(epochs):\n",
    "        logger.info(f\"running epoch {epoch+1} of {epochs}..\")\n",
    "        trn_loss = trainx3(train_dataset, train_dataloader, model, optimizer, scheduler)\n",
    "        val_loss, val_score, l1, l2, l3 = evaluatex3(valid_dataset, valid_dataloader, model)\n",
    "        logger.info(f\"validation recall score: {val_score}, grapheme_root recall: {l1}, vowel_diacritic recall: {l2}, consonant_diacritic recall: {l3}\")"
   ]
  },
  {
   "cell_type": "code",
   "execution_count": 29,
   "metadata": {},
   "outputs": [],
   "source": [
    "def fitx1(model, train_dataset, train_dataloader, valid_dataset, valid_dataloader, optimizer, scheduler, component, epochs = 10, DEVICE='cuda'):\n",
    "    for epoch in range(epochs):\n",
    "        logger.info(f\"running epoch {epoch+1} of {epochs}..\")\n",
    "        trn_loss = trainx1(train_dataset, train_dataloader, model, optimizer, scheduler, component)\n",
    "        val_loss, val_score = evaluatex1(valid_dataset, valid_dataloader, model, component)\n",
    "        logger.info(f\"validation recall score: {val_score}\")"
   ]
  },
  {
   "cell_type": "markdown",
   "metadata": {},
   "source": [
    "## Base model"
   ]
  },
  {
   "cell_type": "code",
   "execution_count": 30,
   "metadata": {},
   "outputs": [
    {
     "data": {
      "text/plain": [
       "(23030, 6)"
      ]
     },
     "execution_count": 30,
     "metadata": {},
     "output_type": "execute_result"
    }
   ],
   "source": [
    "df = df[df.grapheme_root.isin(list(df.grapheme_root.value_counts()[-15:])+[72])].reset_index(drop=True)\n",
    "df.shape"
   ]
  },
  {
   "cell_type": "code",
   "execution_count": null,
   "metadata": {
    "scrolled": false
   },
   "outputs": [
    {
     "name": "stderr",
     "output_type": "stream",
     "text": [
      "INFO:__main__:model_kwargs: {'nf': 1, 'n_in': 512, 'n_out': 168}\n",
      "INFO:__main__:Train folds: [2 1 4 0], validation fold: [3]\n",
      "INFO:__main__:running epoch 1 of 20..\n",
      "  0%|          | 3/627 [00:03<13:58,  1.34s/it]"
     ]
    }
   ],
   "source": [
    "epochs=20\n",
    "model, train_dataset, train_dataloader, valid_dataset, valid_dataloader, optimizer, scheduler = reinit(\n",
    "    'resnet34', bs=256, epochs=epochs, Dataset=BengaliDataset, nf=1, n_in=512, n_out=168, subset=True, _df=df)\n",
    "fitx1(model, train_dataset, train_dataloader, valid_dataset, valid_dataloader, optimizer, scheduler, \"grapheme_root\",\n",
    "      epochs)"
   ]
  },
  {
   "cell_type": "markdown",
   "metadata": {},
   "source": [
    "## Add Augmentation"
   ]
  },
  {
   "cell_type": "markdown",
   "metadata": {
    "heading_collapsed": true
   },
   "source": [
    "## Add sampler"
   ]
  },
  {
   "cell_type": "code",
   "execution_count": 36,
   "metadata": {
    "hidden": true
   },
   "outputs": [],
   "source": [
    "def reinit_(model, update_folds=False, bs=256, epochs=5):\n",
    "    model = MODEL_DISPATCHER[model](pretrained=True)\n",
    "    model = model.to(\"cuda\")\n",
    "    logger.info(f\"Train folds: {trn_fld}, validation fold: {val_fld}\")\n",
    "    train_dataset = BengaliDataset(folds=trn_fld)\n",
    "    \n",
    "    weight_dict = dict(1/((train_dataset.df.grapheme_root.value_counts()/len(train_dataset.df))))\n",
    "    samples_weight = np.array([weight_dict[t] for t in train_dataset.grapheme_root])\n",
    "    \n",
    "    sampler = torch.utils.data.sampler.WeightedRandomSampler(samples_weight, len(samples_weight), \n",
    "                                                             replacement=False)\n",
    "    \n",
    "    train_dataloader = torch.utils.data.DataLoader(train_dataset, batch_size=bs, shuffle=False, \n",
    "                                                   sampler=sampler,\n",
    "                                                   num_workers=4)\n",
    "    valid_dataset = BengaliDataset(folds=[val_fld])\n",
    "    valid_dataloader = torch.utils.data.DataLoader(valid_dataset, batch_size=bs, shuffle=True, num_workers=4)\n",
    "    optimizer = torch.optim.Adam([  \n",
    "    {'params': model.initial_layers.parameters(), 'lr': learning_rate/100},  \n",
    "    {'params': model.middle_layers.parameters(), 'lr': learning_rate/10},  \n",
    "    {'params': model.later_layers.parameters(), 'lr': learning_rate},  \n",
    "    {'params': model.linear_layers.parameters(), 'lr': learning_rate},  \n",
    "], lr=learning_rate)\n",
    "    scheduler = torch.optim.lr_scheduler.OneCycleLR(\n",
    "    optimizer, \n",
    "    steps_per_epoch=int(len(train_dataset)/train_dataloader.batch_size),\n",
    "    max_lr=learning_rate, \n",
    "    epochs=epochs\n",
    "    )\n",
    "    return model, train_dataset, train_dataloader, valid_dataset, valid_dataloader, optimizer, scheduler"
   ]
  },
  {
   "cell_type": "code",
   "execution_count": 37,
   "metadata": {
    "hidden": true
   },
   "outputs": [
    {
     "name": "stderr",
     "output_type": "stream",
     "text": [
      "INFO:__main__:Train folds: [2 1 4 0], validation fold: [3]\n",
      "INFO:numexpr.utils:NumExpr defaulting to 8 threads.\n"
     ]
    }
   ],
   "source": [
    "model, train_dataset, train_dataloader, valid_dataset, valid_dataloader, optimizer, scheduler = reinit_('resnet101', epochs=15)"
   ]
  },
  {
   "cell_type": "code",
   "execution_count": 38,
   "metadata": {
    "hidden": true
   },
   "outputs": [
    {
     "name": "stderr",
     "output_type": "stream",
     "text": [
      "INFO:__main__:running epoch 1 of 15..\n",
      "628it [03:31,  2.96it/s]                         \n",
      "  0%|          | 0/156 [00:00<?, ?it/s]/home/ubuntu/anaconda3/lib/python3.7/site-packages/sklearn/metrics/classification.py:1439: UndefinedMetricWarning: Recall is ill-defined and being set to 0.0 in labels with no true samples.\n",
      "  'recall', 'true', average, warn_for)\n",
      "157it [00:23,  6.59it/s]                         \n",
      "INFO:__main__:validation recall score: 0.6463248687093757\n",
      "INFO:__main__:running epoch 2 of 15..\n",
      "628it [03:31,  2.97it/s]                         \n",
      "157it [00:23,  6.67it/s]                         \n",
      "INFO:__main__:validation recall score: 0.681054678480499\n",
      "INFO:__main__:running epoch 3 of 15..\n",
      "628it [03:31,  2.97it/s]                         \n",
      "157it [00:24,  6.52it/s]                         \n",
      "INFO:__main__:validation recall score: 0.7094706006206782\n",
      "INFO:__main__:running epoch 4 of 15..\n",
      "628it [03:31,  2.97it/s]                         \n",
      "157it [00:23,  6.71it/s]                         \n",
      "INFO:__main__:validation recall score: 0.7501332546052897\n",
      "INFO:__main__:running epoch 5 of 15..\n",
      " 99%|█████████▉| 623/627 [03:29<00:01,  2.97it/s]IOPub message rate exceeded.\n",
      "The notebook server will temporarily stop sending output\n",
      "to the client in order to avoid crashing it.\n",
      "To change this limit, set the config variable\n",
      "`--NotebookApp.iopub_msg_rate_limit`.\n",
      "\n",
      "Current values:\n",
      "NotebookApp.iopub_msg_rate_limit=1000.0 (msgs/sec)\n",
      "NotebookApp.rate_limit_window=3.0 (secs)\n",
      "\n",
      "628it [03:31,  2.96it/s]                         \n",
      "157it [00:24,  6.45it/s]                         \n",
      "INFO:__main__:validation recall score: 0.9375641562956971\n",
      "INFO:__main__:running epoch 10 of 15..\n",
      "628it [03:32,  2.96it/s]                         \n",
      "157it [00:24,  6.50it/s]                         \n",
      "INFO:__main__:validation recall score: 0.92910081588242\n",
      "INFO:__main__:running epoch 11 of 15..\n",
      "628it [03:31,  2.97it/s]                         \n",
      "157it [00:23,  6.71it/s]                         \n",
      "INFO:__main__:validation recall score: 0.9452726717811052\n",
      "INFO:__main__:running epoch 12 of 15..\n",
      "628it [03:31,  2.97it/s]                         \n",
      "157it [00:23,  6.67it/s]                         \n",
      "INFO:__main__:validation recall score: 0.9606152324183902\n",
      "INFO:__main__:running epoch 13 of 15..\n",
      "628it [03:31,  2.97it/s]                         \n",
      "157it [00:23,  6.63it/s]                         \n",
      "INFO:__main__:validation recall score: 0.9608159781401012\n",
      "INFO:__main__:running epoch 14 of 15..\n",
      "628it [03:31,  2.97it/s]                         \n",
      "157it [00:23,  6.59it/s]                         \n",
      "INFO:__main__:validation recall score: 0.9581722970514018\n",
      "INFO:__main__:running epoch 15 of 15..\n",
      "628it [03:31,  2.97it/s]                         \n",
      "157it [00:24,  6.49it/s]                         \n",
      "INFO:__main__:validation recall score: 0.9535782092730649\n"
     ]
    }
   ],
   "source": [
    "EPOCHS = 15; DEVICE='cuda'\n",
    "for epoch in range(EPOCHS):\n",
    "    logger.info(f\"running epoch {epoch+1} of {EPOCHS}..\")\n",
    "    trn_loss = train(train_dataset, train_dataloader, model, optimizer, scheduler)\n",
    "    val_loss, val_score = evaluate(valid_dataset, valid_dataloader, model)\n",
    "    logger.info(f\"validation recall score: {val_score}\")\n",
    "    writer.add_scalars(\n",
    "        'sampler_full', {'Loss/train': trn_loss, 'Loss/test': val_loss, 'val_score': val_score}, epoch\n",
    "    )"
   ]
  },
  {
   "cell_type": "markdown",
   "metadata": {
    "heading_collapsed": true
   },
   "source": [
    "## Add `HorizontalFlip`"
   ]
  },
  {
   "cell_type": "code",
   "execution_count": 52,
   "metadata": {
    "hidden": true
   },
   "outputs": [],
   "source": [
    "train_dataset.aug =  albumentations.Compose([\n",
    "                albumentations.Resize(train_dataset.h, train_dataset.w, always_apply=True),\n",
    "                albumentations.HorizontalFlip(p=0.6),\n",
    "                albumentations.Normalize(always_apply=True) \n",
    "            ])\n",
    "\n",
    "train_dataloader = torch.utils.data.DataLoader(\n",
    "    train_dataset, \n",
    "    batch_size=256, \n",
    "    shuffle=True,\n",
    "    num_workers=4\n",
    "    )"
   ]
  },
  {
   "cell_type": "code",
   "execution_count": 53,
   "metadata": {
    "hidden": true
   },
   "outputs": [
    {
     "name": "stderr",
     "output_type": "stream",
     "text": [
      "INFO:__main__:model_kwargs: {'nf': 3, 'n_in': 512}\n",
      "INFO:__main__:Train folds: [2 1 4 0], validation fold: [3]\n"
     ]
    }
   ],
   "source": [
    "model, train_dataset, train_dataloader, valid_dataset, valid_dataloader, optimizer, scheduler = reinit(\n",
    "    'resnet34', bs=256, epochs=epochs, Dataset=BengaliDataset, nf=3, n_in=512, train_dataset=train_dataset, train_dataloader=train_dataloader)\n",
    "# fitx3(model, train_dataset, train_dataloader, valid_dataset, valid_dataloader, optimizer, scheduler, epochs)"
   ]
  },
  {
   "cell_type": "markdown",
   "metadata": {
    "heading_collapsed": true
   },
   "source": [
    "## Try `SeResNext50`"
   ]
  },
  {
   "cell_type": "code",
   "execution_count": 55,
   "metadata": {
    "hidden": true
   },
   "outputs": [],
   "source": [
    "train_dataset.aug =  albumentations.Compose([\n",
    "                albumentations.Resize(train_dataset.h, train_dataset.w, always_apply=True),\n",
    "                albumentations.HorizontalFlip(p=0.6),\n",
    "                albumentations.Normalize(always_apply=True) \n",
    "            ])\n",
    "\n",
    "train_dataloader = torch.utils.data.DataLoader(\n",
    "    train_dataset, \n",
    "    batch_size=64, \n",
    "    shuffle=True,\n",
    "    num_workers=4\n",
    "    )"
   ]
  },
  {
   "cell_type": "code",
   "execution_count": 69,
   "metadata": {
    "hidden": true
   },
   "outputs": [
    {
     "name": "stderr",
     "output_type": "stream",
     "text": [
      "INFO:__main__:model_kwargs: {'nf': 3, 'n_in': 2048, 'n_mid': 512}\n",
      "INFO:__main__:Train folds: [2 1 4 0], validation fold: [3]\n"
     ]
    }
   ],
   "source": [
    "epochs = 20\n",
    "model, train_dataset, train_dataloader, valid_dataset, valid_dataloader, optimizer, scheduler = reinit(\n",
    "    'se_resnext50', bs=64, epochs=epochs, Dataset=BengaliDataset, nf=3, n_in=2048, n_mid=512, train_dataset=train_dataset, train_dataloader=train_dataloader)"
   ]
  },
  {
   "cell_type": "code",
   "execution_count": null,
   "metadata": {
    "hidden": true
   },
   "outputs": [
    {
     "name": "stderr",
     "output_type": "stream",
     "text": [
      "INFO:__main__:running epoch 1 of 20..\n",
      " 13%|█▎        | 36/287 [00:08<00:59,  4.20it/s]"
     ]
    }
   ],
   "source": [
    "fitx3(model, train_dataset, train_dataloader, valid_dataset, valid_dataloader, optimizer, scheduler, epochs)"
   ]
  },
  {
   "cell_type": "markdown",
   "metadata": {},
   "source": [
    "## `Horizontal Flip` + `Grapheme Root` + `SeResnext50`"
   ]
  },
  {
   "cell_type": "code",
   "execution_count": 31,
   "metadata": {},
   "outputs": [],
   "source": [
    "class GraphemeRootDataset(BengaliDataset):\n",
    "    def __getitem__(self, idx):\n",
    "        image = joblib.load(f\"{self.data_path}/image_pickles/{self.img_ids[idx]}.pkl\")\n",
    "        image = image.reshape(self.h, self.w).astype(float)\n",
    "        image = Image.fromarray(image).convert(\"RGB\")\n",
    "        image = self.aug(image=np.array(image))['image']\n",
    "        image = np.transpose(image, (2, 0, 1)).astype(np.float32)\n",
    "        return {\n",
    "            'image': torch.tensor(image, dtype=torch.float),\n",
    "            'grapheme_root': torch.tensor(self.grapheme_root[idx], dtype=torch.long), \n",
    "        }"
   ]
  },
  {
   "cell_type": "code",
   "execution_count": 32,
   "metadata": {},
   "outputs": [
    {
     "name": "stderr",
     "output_type": "stream",
     "text": [
      "INFO:__main__:model_kwargs: {'nf': 1, 'n_in': 2048, 'n_out': 168, 'n_mid': 512}\n",
      "INFO:__main__:Train folds: [2 1 4 0], validation fold: [3]\n"
     ]
    }
   ],
   "source": [
    "epochs=20\n",
    "model, train_dataset, train_dataloader, valid_dataset, valid_dataloader, optimizer, scheduler = reinit(\n",
    "    'se_resnext50', bs=64, epochs=epochs, Dataset=GraphemeRootDataset, nf=1, n_in=2048, n_out=168, n_mid=512, \n",
    "    subset=True)"
   ]
  },
  {
   "cell_type": "code",
   "execution_count": 33,
   "metadata": {},
   "outputs": [
    {
     "data": {
      "text/plain": [
       "LinearHeadx1(\n",
       "  (li): Linear(in_features=2048, out_features=512, bias=True)\n",
       "  (lf): Linear(in_features=512, out_features=168, bias=True)\n",
       ")"
      ]
     },
     "execution_count": 33,
     "metadata": {},
     "output_type": "execute_result"
    }
   ],
   "source": [
    "model.custom_head"
   ]
  },
  {
   "cell_type": "code",
   "execution_count": 33,
   "metadata": {},
   "outputs": [],
   "source": [
    "train_dataset.aug =  albumentations.Compose([\n",
    "                albumentations.Resize(train_dataset.h, train_dataset.w, always_apply=True),\n",
    "                albumentations.HorizontalFlip(p=0.6),\n",
    "                albumentations.Cutout(16),\n",
    "                albumentations.Normalize(always_apply=True) \n",
    "            ])\n",
    "\n",
    "train_dataloader = torch.utils.data.DataLoader(\n",
    "    train_dataset, \n",
    "    batch_size=64, \n",
    "    shuffle=True,\n",
    "    num_workers=4\n",
    "    )"
   ]
  },
  {
   "cell_type": "code",
   "execution_count": 34,
   "metadata": {},
   "outputs": [
    {
     "name": "stderr",
     "output_type": "stream",
     "text": [
      "WARNING:matplotlib.image:Clipping input data to the valid range for imshow with RGB data ([0..1] for floats or [0..255] for integers).\n",
      "WARNING:matplotlib.image:Clipping input data to the valid range for imshow with RGB data ([0..1] for floats or [0..255] for integers).\n",
      "WARNING:matplotlib.image:Clipping input data to the valid range for imshow with RGB data ([0..1] for floats or [0..255] for integers).\n",
      "WARNING:matplotlib.image:Clipping input data to the valid range for imshow with RGB data ([0..1] for floats or [0..255] for integers).\n",
      "WARNING:matplotlib.image:Clipping input data to the valid range for imshow with RGB data ([0..1] for floats or [0..255] for integers).\n",
      "WARNING:matplotlib.image:Clipping input data to the valid range for imshow with RGB data ([0..1] for floats or [0..255] for integers).\n",
      "WARNING:matplotlib.image:Clipping input data to the valid range for imshow with RGB data ([0..1] for floats or [0..255] for integers).\n",
      "WARNING:matplotlib.image:Clipping input data to the valid range for imshow with RGB data ([0..1] for floats or [0..255] for integers).\n",
      "WARNING:matplotlib.image:Clipping input data to the valid range for imshow with RGB data ([0..1] for floats or [0..255] for integers).\n"
     ]
    },
    {
     "data": {
      "image/png": "[encoded data removed]",
      "text/plain": [
       "<Figure size 720x720 with 9 Axes>"
      ]
     },
     "metadata": {
      "needs_background": "light"
     },
     "output_type": "display_data"
    }
   ],
   "source": [
    "train_dataset.show_batch()"
   ]
  },
  {
   "cell_type": "code",
   "execution_count": null,
   "metadata": {},
   "outputs": [
    {
     "name": "stderr",
     "output_type": "stream",
     "text": [
      "INFO:__main__:running epoch 1 of 20..\n",
      "288it [03:35,  1.34it/s]                         \n",
      "  0%|          | 0/627 [00:00<?, ?it/s]/home/ubuntu/anaconda3/lib/python3.7/site-packages/sklearn/metrics/classification.py:1439: UndefinedMetricWarning: Recall is ill-defined and being set to 0.0 in labels with no true samples.\n",
      "  'recall', 'true', average, warn_for)\n",
      " 48%|████▊     | 303/627 [01:09<01:14,  4.37it/s]"
     ]
    }
   ],
   "source": [
    "fitx1(model, train_dataset, train_dataloader, valid_dataset, valid_dataloader, \n",
    "      optimizer=optimizer, scheduler=scheduler, epochs=epochs, component='grapheme_root')"
   ]
  },
  {
   "cell_type": "code",
   "execution_count": 40,
   "metadata": {},
   "outputs": [],
   "source": [
    "torch.save(model.state_dict(), \"seresnext50_cutout-HRFlip_20epochs.bin\")\n",
    "torch.save(optimizer.state_dict(), 'opt.bin')"
   ]
  },
  {
   "cell_type": "code",
   "execution_count": 41,
   "metadata": {},
   "outputs": [],
   "source": [
    "learning_rate = 1e-8\n",
    "optimizer = torch.optim.Adam([  \n",
    "    {'params': model.initial_layers.parameters(), 'lr': learning_rate/100},  \n",
    "    {'params': model.middle_layers.parameters(), 'lr': learning_rate/10},  \n",
    "    {'params': model.later_layers.parameters(), 'lr': learning_rate},  \n",
    "    {'params': model.custom_head.parameters(), 'lr': learning_rate},  \n",
    "], lr=learning_rate)\n",
    "\n",
    "scheduler = torch.optim.lr_scheduler.OneCycleLR(\n",
    "    optimizer, \n",
    "    steps_per_epoch=int(len(train_dataset)/train_dataloader.batch_size),\n",
    "    max_lr=learning_rate, \n",
    "    epochs=epochs\n",
    ")"
   ]
  },
  {
   "cell_type": "code",
   "execution_count": 42,
   "metadata": {},
   "outputs": [
    {
     "name": "stderr",
     "output_type": "stream",
     "text": [
      "INFO:__main__:running epoch 1 of 20..\n",
      "2511it [28:58,  1.44it/s]                          \n",
      "  0%|          | 1/627 [00:00<03:13,  3.24it/s]/home/ubuntu/anaconda3/lib/python3.7/site-packages/sklearn/metrics/classification.py:1439: UndefinedMetricWarning: Recall is ill-defined and being set to 0.0 in labels with no true samples.\n",
      "  'recall', 'true', average, warn_for)\n",
      "628it [02:07,  4.93it/s]                         \n",
      "INFO:__main__:validation recall score: 90.3\n",
      "INFO:__main__:running epoch 2 of 20..\n",
      " 68%|██████▊   | 1697/2510 [19:34<09:24,  1.44it/s]"
     ]
    },
    {
     "ename": "KeyboardInterrupt",
     "evalue": "",
     "output_type": "error",
     "traceback": [
      "\u001b[0;31m---------------------------------------------------------------------------\u001b[0m",
      "\u001b[0;31mKeyboardInterrupt\u001b[0m                         Traceback (most recent call last)",
      "\u001b[0;32m<ipython-input-42-b67577fd4ba0>\u001b[0m in \u001b[0;36m<module>\u001b[0;34m\u001b[0m\n\u001b[1;32m      1\u001b[0m fitx1(model, train_dataset, train_dataloader, valid_dataset, valid_dataloader, \n\u001b[0;32m----> 2\u001b[0;31m       optimizer=optimizer, scheduler=scheduler, epochs=epochs, component='grapheme_root')\n\u001b[0m",
      "\u001b[0;32m<ipython-input-28-27d54ce8449f>\u001b[0m in \u001b[0;36mfitx1\u001b[0;34m(model, train_dataset, train_dataloader, valid_dataset, valid_dataloader, optimizer, scheduler, component, epochs, DEVICE)\u001b[0m\n\u001b[1;32m      2\u001b[0m     \u001b[0;32mfor\u001b[0m \u001b[0mepoch\u001b[0m \u001b[0;32min\u001b[0m \u001b[0mrange\u001b[0m\u001b[0;34m(\u001b[0m\u001b[0mepochs\u001b[0m\u001b[0;34m)\u001b[0m\u001b[0;34m:\u001b[0m\u001b[0;34m\u001b[0m\u001b[0;34m\u001b[0m\u001b[0m\n\u001b[1;32m      3\u001b[0m         \u001b[0mlogger\u001b[0m\u001b[0;34m.\u001b[0m\u001b[0minfo\u001b[0m\u001b[0;34m(\u001b[0m\u001b[0;34mf\"running epoch {epoch+1} of {epochs}..\"\u001b[0m\u001b[0;34m)\u001b[0m\u001b[0;34m\u001b[0m\u001b[0;34m\u001b[0m\u001b[0m\n\u001b[0;32m----> 4\u001b[0;31m         \u001b[0mtrn_loss\u001b[0m \u001b[0;34m=\u001b[0m \u001b[0mtrainx1\u001b[0m\u001b[0;34m(\u001b[0m\u001b[0mtrain_dataset\u001b[0m\u001b[0;34m,\u001b[0m \u001b[0mtrain_dataloader\u001b[0m\u001b[0;34m,\u001b[0m \u001b[0mmodel\u001b[0m\u001b[0;34m,\u001b[0m \u001b[0moptimizer\u001b[0m\u001b[0;34m,\u001b[0m \u001b[0mscheduler\u001b[0m\u001b[0;34m,\u001b[0m \u001b[0mcomponent\u001b[0m\u001b[0;34m)\u001b[0m\u001b[0;34m\u001b[0m\u001b[0;34m\u001b[0m\u001b[0m\n\u001b[0m\u001b[1;32m      5\u001b[0m         \u001b[0mval_loss\u001b[0m\u001b[0;34m,\u001b[0m \u001b[0mval_score\u001b[0m \u001b[0;34m=\u001b[0m \u001b[0mevaluatex1\u001b[0m\u001b[0;34m(\u001b[0m\u001b[0mvalid_dataset\u001b[0m\u001b[0;34m,\u001b[0m \u001b[0mvalid_dataloader\u001b[0m\u001b[0;34m,\u001b[0m \u001b[0mmodel\u001b[0m\u001b[0;34m,\u001b[0m \u001b[0mcomponent\u001b[0m\u001b[0;34m)\u001b[0m\u001b[0;34m\u001b[0m\u001b[0;34m\u001b[0m\u001b[0m\n\u001b[1;32m      6\u001b[0m         \u001b[0mlogger\u001b[0m\u001b[0;34m.\u001b[0m\u001b[0minfo\u001b[0m\u001b[0;34m(\u001b[0m\u001b[0;34mf\"validation recall score: {val_score}\"\u001b[0m\u001b[0;34m)\u001b[0m\u001b[0;34m\u001b[0m\u001b[0;34m\u001b[0m\u001b[0m\n",
      "\u001b[0;32m<ipython-input-21-bfd8dcee643f>\u001b[0m in \u001b[0;36mtrainx1\u001b[0;34m(dataset, data_loader, model, optimizer, scheduler, component, DEVICE)\u001b[0m\n\u001b[1;32m     13\u001b[0m         \u001b[0mtargets\u001b[0m \u001b[0;34m=\u001b[0m \u001b[0my\u001b[0m\u001b[0;34m\u001b[0m\u001b[0;34m\u001b[0m\u001b[0m\n\u001b[1;32m     14\u001b[0m         \u001b[0mloss\u001b[0m \u001b[0;34m=\u001b[0m \u001b[0mloss_func_x1\u001b[0m\u001b[0;34m(\u001b[0m\u001b[0moutputs\u001b[0m\u001b[0;34m,\u001b[0m \u001b[0mtargets\u001b[0m\u001b[0;34m)\u001b[0m\u001b[0;34m\u001b[0m\u001b[0;34m\u001b[0m\u001b[0m\n\u001b[0;32m---> 15\u001b[0;31m         \u001b[0mloss\u001b[0m\u001b[0;34m.\u001b[0m\u001b[0mbackward\u001b[0m\u001b[0;34m(\u001b[0m\u001b[0;34m)\u001b[0m\u001b[0;34m\u001b[0m\u001b[0;34m\u001b[0m\u001b[0m\n\u001b[0m\u001b[1;32m     16\u001b[0m         \u001b[0moptimizer\u001b[0m\u001b[0;34m.\u001b[0m\u001b[0mstep\u001b[0m\u001b[0;34m(\u001b[0m\u001b[0;34m)\u001b[0m\u001b[0;34m\u001b[0m\u001b[0;34m\u001b[0m\u001b[0m\n\u001b[1;32m     17\u001b[0m         \u001b[0mscheduler\u001b[0m\u001b[0;34m.\u001b[0m\u001b[0mstep\u001b[0m\u001b[0;34m(\u001b[0m\u001b[0;34m)\u001b[0m\u001b[0;34m\u001b[0m\u001b[0;34m\u001b[0m\u001b[0m\n",
      "\u001b[0;32m~/anaconda3/lib/python3.7/site-packages/torch/tensor.py\u001b[0m in \u001b[0;36mbackward\u001b[0;34m(self, gradient, retain_graph, create_graph)\u001b[0m\n\u001b[1;32m    193\u001b[0m                 \u001b[0mproducts\u001b[0m\u001b[0;34m.\u001b[0m \u001b[0mDefaults\u001b[0m \u001b[0mto\u001b[0m\u001b[0;31m \u001b[0m\u001b[0;31m`\u001b[0m\u001b[0;31m`\u001b[0m\u001b[0;32mFalse\u001b[0m\u001b[0;31m`\u001b[0m\u001b[0;31m`\u001b[0m\u001b[0;34m.\u001b[0m\u001b[0;34m\u001b[0m\u001b[0;34m\u001b[0m\u001b[0m\n\u001b[1;32m    194\u001b[0m         \"\"\"\n\u001b[0;32m--> 195\u001b[0;31m         \u001b[0mtorch\u001b[0m\u001b[0;34m.\u001b[0m\u001b[0mautograd\u001b[0m\u001b[0;34m.\u001b[0m\u001b[0mbackward\u001b[0m\u001b[0;34m(\u001b[0m\u001b[0mself\u001b[0m\u001b[0;34m,\u001b[0m \u001b[0mgradient\u001b[0m\u001b[0;34m,\u001b[0m \u001b[0mretain_graph\u001b[0m\u001b[0;34m,\u001b[0m \u001b[0mcreate_graph\u001b[0m\u001b[0;34m)\u001b[0m\u001b[0;34m\u001b[0m\u001b[0;34m\u001b[0m\u001b[0m\n\u001b[0m\u001b[1;32m    196\u001b[0m \u001b[0;34m\u001b[0m\u001b[0m\n\u001b[1;32m    197\u001b[0m     \u001b[0;32mdef\u001b[0m \u001b[0mregister_hook\u001b[0m\u001b[0;34m(\u001b[0m\u001b[0mself\u001b[0m\u001b[0;34m,\u001b[0m \u001b[0mhook\u001b[0m\u001b[0;34m)\u001b[0m\u001b[0;34m:\u001b[0m\u001b[0;34m\u001b[0m\u001b[0;34m\u001b[0m\u001b[0m\n",
      "\u001b[0;32m~/anaconda3/lib/python3.7/site-packages/torch/autograd/__init__.py\u001b[0m in \u001b[0;36mbackward\u001b[0;34m(tensors, grad_tensors, retain_graph, create_graph, grad_variables)\u001b[0m\n\u001b[1;32m     97\u001b[0m     Variable._execution_engine.run_backward(\n\u001b[1;32m     98\u001b[0m         \u001b[0mtensors\u001b[0m\u001b[0;34m,\u001b[0m \u001b[0mgrad_tensors\u001b[0m\u001b[0;34m,\u001b[0m \u001b[0mretain_graph\u001b[0m\u001b[0;34m,\u001b[0m \u001b[0mcreate_graph\u001b[0m\u001b[0;34m,\u001b[0m\u001b[0;34m\u001b[0m\u001b[0;34m\u001b[0m\u001b[0m\n\u001b[0;32m---> 99\u001b[0;31m         allow_unreachable=True)  # allow_unreachable flag\n\u001b[0m\u001b[1;32m    100\u001b[0m \u001b[0;34m\u001b[0m\u001b[0m\n\u001b[1;32m    101\u001b[0m \u001b[0;34m\u001b[0m\u001b[0m\n",
      "\u001b[0;31mKeyboardInterrupt\u001b[0m: "
     ]
    }
   ],
   "source": [
    "fitx1(model, train_dataset, train_dataloader, valid_dataset, valid_dataloader, \n",
    "      optimizer=optimizer, scheduler=scheduler, epochs=epochs, component='grapheme_root')"
   ]
  }
 ],
 "metadata": {
  "kernelspec": {
   "display_name": "Python 3",
   "language": "python",
   "name": "python3"
  },
  "language_info": {
   "codemirror_mode": {
    "name": "ipython",
    "version": 3
   },
   "file_extension": ".py",
   "mimetype": "text/x-python",
   "name": "python",
   "nbconvert_exporter": "python",
   "pygments_lexer": "ipython3",
   "version": "3.7.4"
  },
  "toc": {
   "base_numbering": 1,
   "nav_menu": {},
   "number_sections": true,
   "sideBar": true,
   "skip_h1_title": false,
   "title_cell": "Table of Contents",
   "title_sidebar": "Contents",
   "toc_cell": false,
   "toc_position": {
    "height": "calc(100% - 180px)",
    "left": "10px",
    "top": "150px",
    "width": "165px"
   },
   "toc_section_display": true,
   "toc_window_display": false
  }
 },
 "nbformat": 4,
 "nbformat_minor": 2
}
